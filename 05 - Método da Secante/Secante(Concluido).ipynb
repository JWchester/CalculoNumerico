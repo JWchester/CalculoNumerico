{
 "cells": [
  {
   "cell_type": "markdown",
   "metadata": {},
   "source": [
    "## BIBLIOTECA"
   ]
  },
  {
   "cell_type": "code",
   "execution_count": 1,
   "metadata": {},
   "outputs": [],
   "source": [
    "import sympy as sp\n",
    "import numpy as np\n",
    "import matplotlib.pyplot as plt\n",
    "from IPython.display import Math\n"
   ]
  },
  {
   "cell_type": "markdown",
   "metadata": {},
   "source": [
    "## FUNÇÕES"
   ]
  },
  {
   "cell_type": "code",
   "execution_count": 2,
   "metadata": {},
   "outputs": [],
   "source": [
    "#função que retorna resultado da equação\n",
    "def f(x,tp):\n",
    "    a = x**3 - x - 1 #<----- insira a função aqui\n",
    "    if tp == 1:\n",
    "        return a\n",
    "    elif tp ==0:\n",
    "        function_latex = str(a)\n",
    "        b = sp.sympify(function_latex)\n",
    "        c = sp.latex(b)\n",
    "        return c\n",
    "\n",
    "\n",
    "\n",
    "def print_latex(eq):\n",
    "    \n",
    "    return display(Math(eq))\n"
   ]
  },
  {
   "cell_type": "markdown",
   "metadata": {},
   "source": [
    "## ALGORITMO"
   ]
  },
  {
   "cell_type": "code",
   "execution_count": 3,
   "metadata": {},
   "outputs": [
    {
     "name": "stdout",
     "output_type": "stream",
     "text": [
      "Calculando os valores para a função... \n",
      " \n"
     ]
    },
    {
     "data": {
      "text/latex": [
       "$\\displaystyle f(x) = x^{3} - x - 1$"
      ],
      "text/plain": [
       "<IPython.core.display.Math object>"
      ]
     },
     "metadata": {},
     "output_type": "display_data"
    },
    {
     "name": "stdout",
     "output_type": "stream",
     "text": [
      "com os respectivos valores:\n"
     ]
    },
    {
     "data": {
      "text/latex": [
       "$\\displaystyle x_{-1}:$"
      ],
      "text/plain": [
       "<IPython.core.display.Math object>"
      ]
     },
     "metadata": {},
     "output_type": "display_data"
    },
    {
     "data": {
      "text/latex": [
       "$\\displaystyle f(x_{-1}) = (2)^{3} - (2) - 1$"
      ],
      "text/plain": [
       "<IPython.core.display.Math object>"
      ]
     },
     "metadata": {},
     "output_type": "display_data"
    },
    {
     "data": {
      "text/latex": [
       "$\\displaystyle x_0 : $"
      ],
      "text/plain": [
       "<IPython.core.display.Math object>"
      ]
     },
     "metadata": {},
     "output_type": "display_data"
    },
    {
     "data": {
      "text/latex": [
       "$\\displaystyle f(x) = (1.8)^{3} - (1.8) - 1$"
      ],
      "text/plain": [
       "<IPython.core.display.Math object>"
      ]
     },
     "metadata": {},
     "output_type": "display_data"
    }
   ],
   "source": [
    "# condições iniciais\n",
    "\n",
    "x_1 = 2   #<------------insira o ponto inicial aqui\n",
    "x0 = 1.8  #<------------insira o ponto final aqui\n",
    "x = sp.symbols('x')\n",
    "tolerance = 0.002\n",
    "interation = 1\n",
    "decimal_place = 3\n",
    "while True:\n",
    "    print('Calculando os valores para a função... \\n ')\n",
    "    print_latex('f(x) = '+f(x,0))\n",
    "    print('com os respectivos valores:')\n",
    "\n",
    "    print_latex('x_{-1}:')\n",
    "    print_latex('f(x_{-1}) = '+f(x,0).replace('x','('+str(x_1)+')'))\n",
    "   \n",
    "    print_latex('x_0 : ')\n",
    "    print_latex('f(x) = '+f(x,0).replace('x','('+str(x0)+')'))\n",
    "\n",
    "\n",
    "    break\n",
    "\n",
    "    \n",
    "\n"
   ]
  },
  {
   "cell_type": "code",
   "execution_count": 4,
   "metadata": {},
   "outputs": [
    {
     "name": "stdout",
     "output_type": "stream",
     "text": [
      "1ª iteração\n",
      "então, para a mesma função f(x):\n"
     ]
    },
    {
     "data": {
      "text/latex": [
       "$\\displaystyle f(x) = x^{3} - x - 1$"
      ],
      "text/plain": [
       "<IPython.core.display.Math object>"
      ]
     },
     "metadata": {},
     "output_type": "display_data"
    },
    {
     "name": "stdout",
     "output_type": "stream",
     "text": [
      "determina-se o valor da raíz com a expressão: \n"
     ]
    },
    {
     "data": {
      "text/latex": [
       "$\\displaystyle x ={x_{-1} \\cdot f(x_0) - x_0 \\cdot f(x_{-1}) \\over f(x_0) - f(x_{-1}) }$"
      ],
      "text/plain": [
       "<IPython.core.display.Math object>"
      ]
     },
     "metadata": {},
     "output_type": "display_data"
    },
    {
     "name": "stdout",
     "output_type": "stream",
     "text": [
      "temos então:\n",
      "\n"
     ]
    },
    {
     "data": {
      "text/latex": [
       "$\\displaystyle x = {2\\cdot[0.8292874879999999] - 1.8\\cdot[0.8292874879999999]\\over[0.8292874879999999] - [0.8292874879999999]} = 1.492$"
      ],
      "text/plain": [
       "<IPython.core.display.Math object>"
      ]
     },
     "metadata": {},
     "output_type": "display_data"
    },
    {
     "name": "stdout",
     "output_type": "stream",
     "text": [
      "verificando condição de parada:\n"
     ]
    },
    {
     "data": {
      "text/latex": [
       "$\\displaystyle f(x) = 0.8292874879999999$"
      ],
      "text/plain": [
       "<IPython.core.display.Math object>"
      ]
     },
     "metadata": {},
     "output_type": "display_data"
    },
    {
     "name": "stdout",
     "output_type": "stream",
     "text": [
      "temos então:\n"
     ]
    },
    {
     "data": {
      "text/latex": [
       "$\\displaystyle |f(1.492)| > 0.002$"
      ],
      "text/plain": [
       "<IPython.core.display.Math object>"
      ]
     },
     "metadata": {},
     "output_type": "display_data"
    },
    {
     "data": {
      "text/latex": [
       "$\\displaystyle 0.829 > 0.002$"
      ],
      "text/plain": [
       "<IPython.core.display.Math object>"
      ]
     },
     "metadata": {},
     "output_type": "display_data"
    },
    {
     "name": "stdout",
     "output_type": "stream",
     "text": [
      "dessa forma Continua com o algoritmo até satisfazer a condição de parada. \n",
      "\n",
      "atualizando o x anterior: \n"
     ]
    },
    {
     "data": {
      "text/latex": [
       "$\\displaystyle x_{-1} = x_0 = 1.8$"
      ],
      "text/plain": [
       "<IPython.core.display.Math object>"
      ]
     },
     "metadata": {},
     "output_type": "display_data"
    },
    {
     "name": "stdout",
     "output_type": "stream",
     "text": [
      "atualizando x atual: \n"
     ]
    },
    {
     "data": {
      "text/latex": [
       "$\\displaystyle x_0 = x = 1.492$"
      ],
      "text/plain": [
       "<IPython.core.display.Math object>"
      ]
     },
     "metadata": {},
     "output_type": "display_data"
    },
    {
     "name": "stdout",
     "output_type": "stream",
     "text": [
      "2ª iteração\n",
      "então, para a mesma função f(x):\n"
     ]
    },
    {
     "data": {
      "text/latex": [
       "$\\displaystyle f(x) = 0.8292874879999999$"
      ],
      "text/plain": [
       "<IPython.core.display.Math object>"
      ]
     },
     "metadata": {},
     "output_type": "display_data"
    },
    {
     "name": "stdout",
     "output_type": "stream",
     "text": [
      "determina-se o valor da raíz com a expressão: \n"
     ]
    },
    {
     "data": {
      "text/latex": [
       "$\\displaystyle x ={x_{-1} \\cdot f(x_0) - x_0 \\cdot f(x_{-1}) \\over f(x_0) - f(x_{-1}) }$"
      ],
      "text/plain": [
       "<IPython.core.display.Math object>"
      ]
     },
     "metadata": {},
     "output_type": "display_data"
    },
    {
     "name": "stdout",
     "output_type": "stream",
     "text": [
      "temos então:\n",
      "\n"
     ]
    },
    {
     "data": {
      "text/latex": [
       "$\\displaystyle x = {1.8\\cdot[0.22928537599999954] - 1.492\\cdot[0.22928537599999954]\\over[0.22928537599999954] - [0.22928537599999954]} = 1.376$"
      ],
      "text/plain": [
       "<IPython.core.display.Math object>"
      ]
     },
     "metadata": {},
     "output_type": "display_data"
    },
    {
     "name": "stdout",
     "output_type": "stream",
     "text": [
      "verificando condição de parada:\n"
     ]
    },
    {
     "data": {
      "text/latex": [
       "$\\displaystyle f(x) = 0.22928537599999954$"
      ],
      "text/plain": [
       "<IPython.core.display.Math object>"
      ]
     },
     "metadata": {},
     "output_type": "display_data"
    },
    {
     "name": "stdout",
     "output_type": "stream",
     "text": [
      "temos então:\n"
     ]
    },
    {
     "data": {
      "text/latex": [
       "$\\displaystyle |f(1.376)| > 0.002$"
      ],
      "text/plain": [
       "<IPython.core.display.Math object>"
      ]
     },
     "metadata": {},
     "output_type": "display_data"
    },
    {
     "data": {
      "text/latex": [
       "$\\displaystyle 0.229 > 0.002$"
      ],
      "text/plain": [
       "<IPython.core.display.Math object>"
      ]
     },
     "metadata": {},
     "output_type": "display_data"
    },
    {
     "name": "stdout",
     "output_type": "stream",
     "text": [
      "dessa forma Continua com o algoritmo até satisfazer a condição de parada. \n",
      "\n",
      "atualizando o x anterior: \n"
     ]
    },
    {
     "data": {
      "text/latex": [
       "$\\displaystyle x_{-1} = x_0 = 1.492$"
      ],
      "text/plain": [
       "<IPython.core.display.Math object>"
      ]
     },
     "metadata": {},
     "output_type": "display_data"
    },
    {
     "name": "stdout",
     "output_type": "stream",
     "text": [
      "atualizando x atual: \n"
     ]
    },
    {
     "data": {
      "text/latex": [
       "$\\displaystyle x_0 = x = 1.376$"
      ],
      "text/plain": [
       "<IPython.core.display.Math object>"
      ]
     },
     "metadata": {},
     "output_type": "display_data"
    },
    {
     "name": "stdout",
     "output_type": "stream",
     "text": [
      "3ª iteração\n",
      "então, para a mesma função f(x):\n"
     ]
    },
    {
     "data": {
      "text/latex": [
       "$\\displaystyle f(x) = 0.22928537599999954$"
      ],
      "text/plain": [
       "<IPython.core.display.Math object>"
      ]
     },
     "metadata": {},
     "output_type": "display_data"
    },
    {
     "name": "stdout",
     "output_type": "stream",
     "text": [
      "determina-se o valor da raíz com a expressão: \n"
     ]
    },
    {
     "data": {
      "text/latex": [
       "$\\displaystyle x ={x_{-1} \\cdot f(x_0) - x_0 \\cdot f(x_{-1}) \\over f(x_0) - f(x_{-1}) }$"
      ],
      "text/plain": [
       "<IPython.core.display.Math object>"
      ]
     },
     "metadata": {},
     "output_type": "display_data"
    },
    {
     "name": "stdout",
     "output_type": "stream",
     "text": [
      "temos então:\n",
      "\n"
     ]
    },
    {
     "data": {
      "text/latex": [
       "$\\displaystyle x = {1.492\\cdot[0.03126636800000049] - 1.376\\cdot[0.03126636800000049]\\over[0.03126636800000049] - [0.03126636800000049]} = 1.332$"
      ],
      "text/plain": [
       "<IPython.core.display.Math object>"
      ]
     },
     "metadata": {},
     "output_type": "display_data"
    },
    {
     "name": "stdout",
     "output_type": "stream",
     "text": [
      "verificando condição de parada:\n"
     ]
    },
    {
     "data": {
      "text/latex": [
       "$\\displaystyle f(x) = 0.03126636800000049$"
      ],
      "text/plain": [
       "<IPython.core.display.Math object>"
      ]
     },
     "metadata": {},
     "output_type": "display_data"
    },
    {
     "name": "stdout",
     "output_type": "stream",
     "text": [
      "temos então:\n"
     ]
    },
    {
     "data": {
      "text/latex": [
       "$\\displaystyle |f(1.332)| > 0.002$"
      ],
      "text/plain": [
       "<IPython.core.display.Math object>"
      ]
     },
     "metadata": {},
     "output_type": "display_data"
    },
    {
     "data": {
      "text/latex": [
       "$\\displaystyle 0.031 > 0.002$"
      ],
      "text/plain": [
       "<IPython.core.display.Math object>"
      ]
     },
     "metadata": {},
     "output_type": "display_data"
    },
    {
     "name": "stdout",
     "output_type": "stream",
     "text": [
      "dessa forma Continua com o algoritmo até satisfazer a condição de parada. \n",
      "\n",
      "atualizando o x anterior: \n"
     ]
    },
    {
     "data": {
      "text/latex": [
       "$\\displaystyle x_{-1} = x_0 = 1.376$"
      ],
      "text/plain": [
       "<IPython.core.display.Math object>"
      ]
     },
     "metadata": {},
     "output_type": "display_data"
    },
    {
     "name": "stdout",
     "output_type": "stream",
     "text": [
      "atualizando x atual: \n"
     ]
    },
    {
     "data": {
      "text/latex": [
       "$\\displaystyle x_0 = x = 1.332$"
      ],
      "text/plain": [
       "<IPython.core.display.Math object>"
      ]
     },
     "metadata": {},
     "output_type": "display_data"
    },
    {
     "name": "stdout",
     "output_type": "stream",
     "text": [
      "4ª iteração\n",
      "então, para a mesma função f(x):\n"
     ]
    },
    {
     "data": {
      "text/latex": [
       "$\\displaystyle f(x) = 0.03126636800000049$"
      ],
      "text/plain": [
       "<IPython.core.display.Math object>"
      ]
     },
     "metadata": {},
     "output_type": "display_data"
    },
    {
     "name": "stdout",
     "output_type": "stream",
     "text": [
      "determina-se o valor da raíz com a expressão: \n"
     ]
    },
    {
     "data": {
      "text/latex": [
       "$\\displaystyle x ={x_{-1} \\cdot f(x_0) - x_0 \\cdot f(x_{-1}) \\over f(x_0) - f(x_{-1}) }$"
      ],
      "text/plain": [
       "<IPython.core.display.Math object>"
      ]
     },
     "metadata": {},
     "output_type": "display_data"
    },
    {
     "name": "stdout",
     "output_type": "stream",
     "text": [
      "temos então:\n",
      "\n"
     ]
    },
    {
     "data": {
      "text/latex": [
       "$\\displaystyle x = {1.376\\cdot[0.0012031249999997495] - 1.332\\cdot[0.0012031249999997495]\\over[0.0012031249999997495] - [0.0012031249999997495]} = 1.325$"
      ],
      "text/plain": [
       "<IPython.core.display.Math object>"
      ]
     },
     "metadata": {},
     "output_type": "display_data"
    },
    {
     "name": "stdout",
     "output_type": "stream",
     "text": [
      "verificando condição de parada:\n"
     ]
    },
    {
     "data": {
      "text/latex": [
       "$\\displaystyle f(x) = 0.0012031249999997495$"
      ],
      "text/plain": [
       "<IPython.core.display.Math object>"
      ]
     },
     "metadata": {},
     "output_type": "display_data"
    },
    {
     "name": "stdout",
     "output_type": "stream",
     "text": [
      "temos então:\n"
     ]
    },
    {
     "data": {
      "text/latex": [
       "$\\displaystyle |f(1.325) < 0.002$"
      ],
      "text/plain": [
       "<IPython.core.display.Math object>"
      ]
     },
     "metadata": {},
     "output_type": "display_data"
    },
    {
     "data": {
      "text/latex": [
       "$\\displaystyle 0.001 < 0.002$"
      ],
      "text/plain": [
       "<IPython.core.display.Math object>"
      ]
     },
     "metadata": {},
     "output_type": "display_data"
    },
    {
     "name": "stdout",
     "output_type": "stream",
     "text": [
      "dessa forma termina o algoritmo.\n"
     ]
    }
   ],
   "source": [
    "# determinando os possiveis valores das raizes:\n",
    "results = []\n",
    "while True:\n",
    "    print('{}ª iteração'.format(interation))\n",
    "    print('então, para a mesma função f(x):')\n",
    "    print_latex('f(x) = '+f(x,0))\n",
    "\n",
    "    print('determina-se o valor da raíz com a expressão: ')\n",
    "    print_latex('x ={x_{-1} \\cdot f(x_0) - x_0 \\cdot f(x_{-1}) \\over f(x_0) - f(x_{-1}) }')\n",
    "    print('temos então:\\n')\n",
    "    x = round((x_1*f(x0,1) - x0*f(x_1,1))/(f(x0,1) - f(x_1,1)),decimal_place)\n",
    "    print_latex('x = {'+str(x_1)+ '\\cdot'+ '['+f(x,0).replace('x',str(x0))+']'+ ' - '+ str(x0)+ '\\cdot' + '['+f(x,0).replace('x',str(x_1))+']'+ '\\over'+'['+f(x,0).replace('x',str(x0))+']'+ ' - ' +'['+f(x,0).replace('x',str(x_1))+']'+'} = '+str(x))\n",
    "    \n",
    "    print('verificando condição de parada:')\n",
    "    \n",
    "   \n",
    "\n",
    "    if abs(f(x,1)) > tolerance:\n",
    "        print_latex('f(x) = '+f(x,0).replace('x',str(x)))\n",
    "        print('temos então:')\n",
    "        print_latex('|f('+str(x)+')| > '+str(tolerance))\n",
    "        print_latex(str(abs(round(f(x,1),decimal_place)))+' > '+str(tolerance))\n",
    "        print('dessa forma Continua com o algoritmo até satisfazer a condição de parada. \\n')\n",
    "        print('atualizando o x anterior: ')\n",
    "        print_latex('x_{-1} = x_0 = '+str(x0))\n",
    "        print('atualizando x atual: ')\n",
    "        print_latex('x_0 = x = '+str(x))\n",
    "        results.append([interation, x_1 , x , x ,abs(f(x,1))])\n",
    "        interation = interation + 1\n",
    "        x_1 = round(x0,decimal_place)\n",
    "        x0 = round(x,decimal_place)\n",
    "    \n",
    "    elif abs(f(x,1)) < tolerance:\n",
    "        print_latex('f(x) = '+f(x,0).replace('x',str(x)))\n",
    "        print('temos então:')\n",
    "        print_latex('|f('+str(x)+') < '+str(tolerance))\n",
    "        print_latex(str(abs(round(f(x,1),decimal_place)))+' < '+str(tolerance))\n",
    "        print('dessa forma termina o algoritmo.')\n",
    "        results.append([interation, x_1 , x , x ,abs(f(x,1))])\n",
    "        break\n",
    "    \n",
    "    if interation > 20:\n",
    "        break\n",
    "\n",
    "    \n",
    "\n",
    "\n",
    "    "
   ]
  },
  {
   "cell_type": "code",
   "execution_count": 5,
   "metadata": {},
   "outputs": [],
   "source": [
    "from tabulate import tabulate\n",
    "\n",
    "train_data_element = tabulate(results, headers=['K','x_k-1','x_k','x_k+1','|f(x_k)|'], tablefmt='heavy_grid')\n"
   ]
  },
  {
   "cell_type": "code",
   "execution_count": 6,
   "metadata": {},
   "outputs": [
    {
     "name": "stdout",
     "output_type": "stream",
     "text": [
      "┏━━━━━┳━━━━━━━━━┳━━━━━━━┳━━━━━━━━━┳━━━━━━━━━━━━┓\n",
      "┃   K ┃   x_k-1 ┃   x_k ┃   x_k+1 ┃   |f(x_k)| ┃\n",
      "┣━━━━━╋━━━━━━━━━╋━━━━━━━╋━━━━━━━━━╋━━━━━━━━━━━━┫\n",
      "┃   1 ┃   2     ┃ 1.492 ┃   1.492 ┃ 0.829287   ┃\n",
      "┣━━━━━╋━━━━━━━━━╋━━━━━━━╋━━━━━━━━━╋━━━━━━━━━━━━┫\n",
      "┃   2 ┃   1.8   ┃ 1.376 ┃   1.376 ┃ 0.229285   ┃\n",
      "┣━━━━━╋━━━━━━━━━╋━━━━━━━╋━━━━━━━━━╋━━━━━━━━━━━━┫\n",
      "┃   3 ┃   1.492 ┃ 1.332 ┃   1.332 ┃ 0.0312664  ┃\n",
      "┣━━━━━╋━━━━━━━━━╋━━━━━━━╋━━━━━━━━━╋━━━━━━━━━━━━┫\n",
      "┃   4 ┃   1.376 ┃ 1.325 ┃   1.325 ┃ 0.00120312 ┃\n",
      "┗━━━━━┻━━━━━━━━━┻━━━━━━━┻━━━━━━━━━┻━━━━━━━━━━━━┛\n"
     ]
    }
   ],
   "source": [
    "print(train_data_element)"
   ]
  }
 ],
 "metadata": {
  "kernelspec": {
   "display_name": "Python 3",
   "language": "python",
   "name": "python3"
  },
  "language_info": {
   "codemirror_mode": {
    "name": "ipython",
    "version": 3
   },
   "file_extension": ".py",
   "mimetype": "text/x-python",
   "name": "python",
   "nbconvert_exporter": "python",
   "pygments_lexer": "ipython3",
   "version": "3.10.12"
  },
  "orig_nbformat": 4
 },
 "nbformat": 4,
 "nbformat_minor": 2
}
