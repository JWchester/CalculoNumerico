{
 "cells": [
  {
   "cell_type": "markdown",
   "metadata": {},
   "source": [
    "## BIBLIOTECAS UTILIZADAS"
   ]
  },
  {
   "cell_type": "code",
   "execution_count": 9,
   "metadata": {},
   "outputs": [],
   "source": [
    "import pandas as pd\n",
    "import numpy as np\n",
    "from tabulate import tabulate\n",
    "from IPython.display import Math\n"
   ]
  },
  {
   "cell_type": "markdown",
   "metadata": {},
   "source": [
    "## FUNÇÕES\n"
   ]
  },
  {
   "cell_type": "code",
   "execution_count": 10,
   "metadata": {},
   "outputs": [],
   "source": [
    "def print_latex(eq):\n",
    "    return display(Math(eq))"
   ]
  },
  {
   "cell_type": "markdown",
   "metadata": {},
   "source": [
    "## ALGORITMO"
   ]
  },
  {
   "cell_type": "code",
   "execution_count": 11,
   "metadata": {},
   "outputs": [],
   "source": [
    "# matriz dos coeficientes, Matriz da cariaveis e matriz resultante\n",
    "\n",
    "matrizDosCoeficientes = np.array([[15,3,7],[7,-21,8],[9,3,-16]]).astype(float)\n",
    "matrizDasVariaveis = []\n",
    "matrizResultante = np.array([[18],[22],[28]]).astype(float)\n",
    "\n",
    "#inserindo operadores para representação matricial\n",
    "caracterEspace1 = np.array([\"*\"])\n",
    "caracterEspace2 = np.array([\"=\"])\n",
    "\n",
    "#ajusta elementos para o print\n",
    "for i in range(len(matrizDosCoeficientes)):\n",
    "    caracterEspace1 = np.insert(caracterEspace1,0,'​')\n",
    "    caracterEspace2 = np.insert(caracterEspace2,0,'​')\n",
    "    matrizDasVariaveis.append([\"x{}\".format(i+1)])\n",
    "\n",
    "\n"
   ]
  },
  {
   "cell_type": "code",
   "execution_count": 12,
   "metadata": {},
   "outputs": [
    {
     "name": "stdout",
     "output_type": "stream",
     "text": [
      "-----------------------------------------------------------------------------------------------------------------\n",
      "                                  APLICANDO A ELIMINAÇÃO DE GAUSS                                                \n",
      "-----------------------------------------------------------------------------------------------------------------\n",
      "\n",
      "\n",
      "\n",
      "MATRIZ ATUAL: \n",
      "\n",
      "┏━━━━┳━━━━━┳━━━━━┓  ​   ┏━━━━┓  ​   ┏━━━━┓\n",
      "┃ 15 ┃   3 ┃   7 ┃  ​   ┃ x1 ┃  ​   ┃ 18 ┃\n",
      "┣━━━━╋━━━━━╋━━━━━┫  ​   ┣━━━━┫  ​   ┣━━━━┫\n",
      "┃  7 ┃ -21 ┃   8 ┃  *  ┃ x2 ┃  =  ┃ 22 ┃\n",
      "┣━━━━╋━━━━━╋━━━━━┫     ┣━━━━┫     ┣━━━━┫\n",
      "┃  9 ┃   3 ┃ -16 ┃     ┃ x3 ┃     ┃ 28 ┃\n",
      "┗━━━━┻━━━━━┻━━━━━┛     ┗━━━━┛     ┗━━━━┛\n",
      "\n",
      "OBTENDO 1° PIVÔ:\n"
     ]
    },
    {
     "data": {
      "text/latex": [
       "$\\displaystyle  a_{11} = 15.0\n",
       "\n",
       "$"
      ],
      "text/plain": [
       "<IPython.core.display.Math object>"
      ]
     },
     "metadata": {},
     "output_type": "display_data"
    },
    {
     "name": "stdout",
     "output_type": "stream",
     "text": [
      "\n",
      "\n",
      "OBTENDO O VALOR DO FATO MULTIPLICATIVO m (LINHA 2) : \n",
      "\n"
     ]
    },
    {
     "data": {
      "text/latex": [
       "$\\displaystyle m_{21} = \\frac{a_{21}}{a_{11}} = \\frac{7.0}{15.0}\n",
       "\n",
       " = 0.4666666666666667\n",
       "\n",
       "$"
      ],
      "text/plain": [
       "<IPython.core.display.Math object>"
      ]
     },
     "metadata": {},
     "output_type": "display_data"
    },
    {
     "name": "stdout",
     "output_type": "stream",
     "text": [
      "\n",
      "Calculando os novos valores para linha 2:\n",
      " \n"
     ]
    },
    {
     "data": {
      "text/latex": [
       "$\\displaystyle a_{21} = a_{21} - m_{21} \\cdot a_{11} = 7.0 - (0.4666666666666667 \\cdot 15.0) = 0$"
      ],
      "text/plain": [
       "<IPython.core.display.Math object>"
      ]
     },
     "metadata": {},
     "output_type": "display_data"
    },
    {
     "data": {
      "text/latex": [
       "$\\displaystyle a_{22} = a_{22} - m_{21} \\cdot a_{12} = -21.0 - (0.4666666666666667 \\cdot 3.0) = -22.4$"
      ],
      "text/plain": [
       "<IPython.core.display.Math object>"
      ]
     },
     "metadata": {},
     "output_type": "display_data"
    },
    {
     "data": {
      "text/latex": [
       "$\\displaystyle a_{23} = a_{23} - m_{21} \\cdot a_{13} = 8.0 - (0.4666666666666667 \\cdot 7.0) = 4.733333333333333$"
      ],
      "text/plain": [
       "<IPython.core.display.Math object>"
      ]
     },
     "metadata": {},
     "output_type": "display_data"
    },
    {
     "data": {
      "text/latex": [
       "$\\displaystyle \n",
       " b_2 = b_2 - m_{21} \\cdot b_1 = [13.6] - (0.4666666666666667 \\cdot [18.]) = [13.6]$"
      ],
      "text/plain": [
       "<IPython.core.display.Math object>"
      ]
     },
     "metadata": {},
     "output_type": "display_data"
    },
    {
     "name": "stdout",
     "output_type": "stream",
     "text": [
      "\n",
      "\n",
      "OBTENDO O VALOR DO FATO MULTIPLICATIVO m (LINHA 3) : \n",
      "\n"
     ]
    },
    {
     "data": {
      "text/latex": [
       "$\\displaystyle m_{31} = \\frac{a_{31}}{a_{11}} = \\frac{9.0}{15.0}\n",
       "\n",
       " = 0.6\n",
       "\n",
       "$"
      ],
      "text/plain": [
       "<IPython.core.display.Math object>"
      ]
     },
     "metadata": {},
     "output_type": "display_data"
    },
    {
     "name": "stdout",
     "output_type": "stream",
     "text": [
      "\n",
      "Calculando os novos valores para linha 3:\n",
      " \n"
     ]
    },
    {
     "data": {
      "text/latex": [
       "$\\displaystyle a_{31} = a_{31} - m_{31} \\cdot a_{11} = 9.0 - (0.6 \\cdot 15.0) = 0$"
      ],
      "text/plain": [
       "<IPython.core.display.Math object>"
      ]
     },
     "metadata": {},
     "output_type": "display_data"
    },
    {
     "data": {
      "text/latex": [
       "$\\displaystyle a_{32} = a_{32} - m_{31} \\cdot a_{12} = 3.0 - (0.6 \\cdot 3.0) = 1.2000000000000002$"
      ],
      "text/plain": [
       "<IPython.core.display.Math object>"
      ]
     },
     "metadata": {},
     "output_type": "display_data"
    },
    {
     "data": {
      "text/latex": [
       "$\\displaystyle a_{33} = a_{33} - m_{31} \\cdot a_{13} = -16.0 - (0.6 \\cdot 7.0) = -20.2$"
      ],
      "text/plain": [
       "<IPython.core.display.Math object>"
      ]
     },
     "metadata": {},
     "output_type": "display_data"
    },
    {
     "data": {
      "text/latex": [
       "$\\displaystyle \n",
       " b_3 = b_3 - m_{31} \\cdot b_1 = [17.2] - (0.6 \\cdot [18.]) = [17.2]$"
      ],
      "text/plain": [
       "<IPython.core.display.Math object>"
      ]
     },
     "metadata": {},
     "output_type": "display_data"
    },
    {
     "name": "stdout",
     "output_type": "stream",
     "text": [
      "\n",
      "MATRIZ ATUAL: \n",
      "\n",
      "┏━━━━┳━━━━━━━┳━━━━━━━━━━━┓  ​   ┏━━━━┓  ​   ┏━━━━━━┓\n",
      "┃ 15 ┃   3   ┃   7       ┃  ​   ┃ x1 ┃  ​   ┃ 18   ┃\n",
      "┣━━━━╋━━━━━━━╋━━━━━━━━━━━┫  ​   ┣━━━━┫  ​   ┣━━━━━━┫\n",
      "┃  0 ┃ -22.4 ┃   4.73333 ┃  *  ┃ x2 ┃  =  ┃ 13.6 ┃\n",
      "┣━━━━╋━━━━━━━╋━━━━━━━━━━━┫     ┣━━━━┫     ┣━━━━━━┫\n",
      "┃  0 ┃   1.2 ┃ -20.2     ┃     ┃ x3 ┃     ┃ 17.2 ┃\n",
      "┗━━━━┻━━━━━━━┻━━━━━━━━━━━┛     ┗━━━━┛     ┗━━━━━━┛\n",
      "\n",
      "OBTENDO 2° PIVÔ:\n"
     ]
    },
    {
     "data": {
      "text/latex": [
       "$\\displaystyle  a_{22} = -22.4\n",
       "\n",
       "$"
      ],
      "text/plain": [
       "<IPython.core.display.Math object>"
      ]
     },
     "metadata": {},
     "output_type": "display_data"
    },
    {
     "name": "stdout",
     "output_type": "stream",
     "text": [
      "\n",
      "\n",
      "OBTENDO O VALOR DO FATO MULTIPLICATIVO m (LINHA 3) : \n",
      "\n"
     ]
    },
    {
     "data": {
      "text/latex": [
       "$\\displaystyle m_{32} = \\frac{a_{32}}{a_{22}} = \\frac{1.2000000000000002}{-22.4}\n",
       "\n",
       " = -0.05357142857142858\n",
       "\n",
       "$"
      ],
      "text/plain": [
       "<IPython.core.display.Math object>"
      ]
     },
     "metadata": {},
     "output_type": "display_data"
    },
    {
     "name": "stdout",
     "output_type": "stream",
     "text": [
      "\n",
      "Calculando os novos valores para linha 3:\n",
      " \n"
     ]
    },
    {
     "data": {
      "text/latex": [
       "$\\displaystyle a_{31} = a_{31} - m_{32} \\cdot a_{21} = 0.0 - (-0.05357142857142858 \\cdot 0.0) = 0$"
      ],
      "text/plain": [
       "<IPython.core.display.Math object>"
      ]
     },
     "metadata": {},
     "output_type": "display_data"
    },
    {
     "data": {
      "text/latex": [
       "$\\displaystyle a_{32} = a_{32} - m_{32} \\cdot a_{22} = 1.2000000000000002 - (-0.05357142857142858 \\cdot -22.4) = 0$"
      ],
      "text/plain": [
       "<IPython.core.display.Math object>"
      ]
     },
     "metadata": {},
     "output_type": "display_data"
    },
    {
     "data": {
      "text/latex": [
       "$\\displaystyle a_{33} = a_{33} - m_{32} \\cdot a_{23} = -20.2 - (-0.05357142857142858 \\cdot 4.733333333333333) = -19.94642857142857$"
      ],
      "text/plain": [
       "<IPython.core.display.Math object>"
      ]
     },
     "metadata": {},
     "output_type": "display_data"
    },
    {
     "data": {
      "text/latex": [
       "$\\displaystyle \n",
       " b_3 = b_3 - m_{32} \\cdot b_2 = [17.92857143] - (-0.05357142857142858 \\cdot [13.6]) = [17.92857143]$"
      ],
      "text/plain": [
       "<IPython.core.display.Math object>"
      ]
     },
     "metadata": {},
     "output_type": "display_data"
    },
    {
     "name": "stdout",
     "output_type": "stream",
     "text": [
      "\n",
      "MATRIZ FINAL: \n",
      "\n",
      "┏━━━━┳━━━━━━━┳━━━━━━━━━━━┓  ​   ┏━━━━┓  ​   ┏━━━━━━━━━┓\n",
      "┃ 15 ┃   3   ┃   7       ┃  ​   ┃ x1 ┃  ​   ┃ 18      ┃\n",
      "┣━━━━╋━━━━━━━╋━━━━━━━━━━━┫  ​   ┣━━━━┫  ​   ┣━━━━━━━━━┫\n",
      "┃  0 ┃ -22.4 ┃   4.73333 ┃  *  ┃ x2 ┃  =  ┃ 13.6    ┃\n",
      "┣━━━━╋━━━━━━━╋━━━━━━━━━━━┫     ┣━━━━┫     ┣━━━━━━━━━┫\n",
      "┃  0 ┃   0   ┃ -19.9464  ┃     ┃ x3 ┃     ┃ 17.9286 ┃\n",
      "┗━━━━┻━━━━━━━┻━━━━━━━━━━━┛     ┗━━━━┛     ┗━━━━━━━━━┛\n"
     ]
    }
   ],
   "source": [
    "#aplicando o método\n",
    "print('-----------------------------------------------------------------------------------------------------------------')\n",
    "print('                                  APLICANDO A ELIMINAÇÃO DE GAUSS                                                ')\n",
    "print('-----------------------------------------------------------------------------------------------------------------\\n\\n')\n",
    "\n",
    "for i in range(len(matrizDosCoeficientes)-1):\n",
    "    print(f'\\nMATRIZ ATUAL: \\n')\n",
    "    tabela = [[tabulate(matrizDosCoeficientes, tablefmt='heavy_grid'),tabulate(caracterEspace1,tablefmt='plain'), tabulate(matrizDasVariaveis, tablefmt='heavy_grid'), tabulate(caracterEspace2,tablefmt='plain'), tabulate(matrizResultante, tablefmt='heavy_grid')]]\n",
    "    matriz = tabulate(tabela, headers=[], tablefmt='plain')\n",
    "    print(matriz)\n",
    "    pivo = matrizDosCoeficientes[i][i]\n",
    "    print(f'\\nOBTENDO {i+1}° PIVÔ:')\n",
    "    print_latex( f\" a_{{{str(i+1)+str(i+1)}}} = {matrizDosCoeficientes[i][i]}\\n\\n\")\n",
    "    for j in range(len(matrizDosCoeficientes[0])):\n",
    "        if j != i and j>i:\n",
    "            m = matrizDosCoeficientes[j][i]/pivo\n",
    "            print(f'\\n\\nOBTENDO O VALOR DO FATO MULTIPLICATIVO m (LINHA {j+1}) : \\n')\n",
    "            print_latex(f\"m_{{{str(j+1)+str(i+1)}}} = \\\\frac{{a_{{{str(j+1)+str(i+1)}}}}}{{a_{{{str(i+1)+str(i+1)}}}}} = \\\\frac{{{matrizDosCoeficientes[j][i]}}}{{{pivo}}}\\n\\n = {m}\\n\\n\")\n",
    "\n",
    "            print(f\"\\nCalculando os novos valores para linha {j+1}:\\n \")\n",
    "            for k in range(len(matrizDosCoeficientes)):\n",
    "                print_latex(f'a_{{{str(j+1)+str(k+1)}}} = a_{{{str(j+1)+str(k+1)}}} - m_{{{str(j+1)+str(i+1)}}} \\cdot a_{{{str(i+1)+str(k+1)}}} = {matrizDosCoeficientes[j][k]} - ({m} \\cdot {matrizDosCoeficientes[i][k]}) = {0 if abs(matrizDosCoeficientes[j][k] - m* matrizDosCoeficientes[i][k]) <10**-9 else matrizDosCoeficientes[j][k] - m* matrizDosCoeficientes[i][k]}')\n",
    "                matrizDosCoeficientes[j][k] = 0 if abs(matrizDosCoeficientes[j][k] - m* matrizDosCoeficientes[i][k]) <10**-9 else matrizDosCoeficientes[j][k] - m* matrizDosCoeficientes[i][k]\n",
    "\n",
    "\n",
    "            matrizResultante[j] = matrizResultante[j] - m * matrizResultante[i]\n",
    "            print_latex(f'\\n b_{j+1} = b_{j+1} - m_{{{str(j+1)+str(i+1)}}} \\cdot b_{i+1} = {matrizResultante[j]} - ({m} \\cdot {matrizResultante[i]}) = {matrizResultante[j]}')\n",
    "print(f'\\nMATRIZ FINAL: \\n')\n",
    "tabela = [[tabulate(matrizDosCoeficientes, tablefmt='heavy_grid'),tabulate(caracterEspace1,tablefmt='plain'), tabulate(matrizDasVariaveis, tablefmt='heavy_grid'), tabulate(caracterEspace2,tablefmt='plain'), tabulate(matrizResultante, tablefmt='heavy_grid')]]\n",
    "matriz = tabulate(tabela, headers=[], tablefmt='plain')\n",
    "print(matriz)\n",
    "\n",
    "\n",
    "\n"
   ]
  },
  {
   "cell_type": "code",
   "execution_count": 13,
   "metadata": {},
   "outputs": [
    {
     "name": "stdout",
     "output_type": "stream",
     "text": [
      "\n",
      "MATRIZ ATUAL: \n",
      "\n",
      "┏━━━━┳━━━━━━━┳━━━━━━━━━━━┓  ​   ┏━━━━┓  ​   ┏━━━━━━━━━┓\n",
      "┃ 15 ┃   3   ┃   7       ┃  ​   ┃ x1 ┃  ​   ┃ 18      ┃\n",
      "┣━━━━╋━━━━━━━╋━━━━━━━━━━━┫  ​   ┣━━━━┫  ​   ┣━━━━━━━━━┫\n",
      "┃  0 ┃ -22.4 ┃   4.73333 ┃  *  ┃ x2 ┃  =  ┃ 13.6    ┃\n",
      "┣━━━━╋━━━━━━━╋━━━━━━━━━━━┫     ┣━━━━┫     ┣━━━━━━━━━┫\n",
      "┃  0 ┃   0   ┃ -19.9464  ┃     ┃ x3 ┃     ┃ 17.9286 ┃\n",
      "┗━━━━┻━━━━━━━┻━━━━━━━━━━━┛     ┗━━━━┛     ┗━━━━━━━━━┛\n",
      "\n",
      "OBTENDO 3° PIVÔ:\n"
     ]
    },
    {
     "data": {
      "text/latex": [
       "$\\displaystyle  a_{33} = -19.94642857142857\n",
       "\n",
       "$"
      ],
      "text/plain": [
       "<IPython.core.display.Math object>"
      ]
     },
     "metadata": {},
     "output_type": "display_data"
    },
    {
     "name": "stdout",
     "output_type": "stream",
     "text": [
      "\n",
      "\n",
      "OBTENDO O VALOR DO FATO MULTIPLICATIVO m (LINHA 2) : \n",
      "\n"
     ]
    },
    {
     "data": {
      "text/latex": [
       "$\\displaystyle m_{23} = \\frac{a_{23}}{a_{33}} = \\frac{4.733333333333333}{-19.94642857142857}\n",
       "\n",
       " = -0.23730229782154583\n",
       "\n",
       "$"
      ],
      "text/plain": [
       "<IPython.core.display.Math object>"
      ]
     },
     "metadata": {},
     "output_type": "display_data"
    },
    {
     "name": "stdout",
     "output_type": "stream",
     "text": [
      "\n",
      "Calculando os novos valores para linha 2:\n",
      " \n"
     ]
    },
    {
     "data": {
      "text/latex": [
       "$\\displaystyle a_{23} = a_{23} - m_{23} \\cdot a_{33} = 4.733333333333333 - (-0.23730229782154583 \\cdot -19.94642857142857) = 0$"
      ],
      "text/plain": [
       "<IPython.core.display.Math object>"
      ]
     },
     "metadata": {},
     "output_type": "display_data"
    },
    {
     "data": {
      "text/latex": [
       "$\\displaystyle a_{22} = a_{22} - m_{23} \\cdot a_{32} = -22.4 - (-0.23730229782154583 \\cdot 0.0) = -22.4$"
      ],
      "text/plain": [
       "<IPython.core.display.Math object>"
      ]
     },
     "metadata": {},
     "output_type": "display_data"
    },
    {
     "data": {
      "text/latex": [
       "$\\displaystyle a_{21} = a_{21} - m_{23} \\cdot a_{31} = 0.0 - (-0.23730229782154583 \\cdot 0.0) = 0$"
      ],
      "text/plain": [
       "<IPython.core.display.Math object>"
      ]
     },
     "metadata": {},
     "output_type": "display_data"
    },
    {
     "data": {
      "text/latex": [
       "$\\displaystyle \n",
       " b_2 = b_2 - m_{23} \\cdot b_3 = [17.8544912] - (-0.23730229782154583 \\cdot [17.92857143]) = [17.8544912]$"
      ],
      "text/plain": [
       "<IPython.core.display.Math object>"
      ]
     },
     "metadata": {},
     "output_type": "display_data"
    },
    {
     "name": "stdout",
     "output_type": "stream",
     "text": [
      "\n",
      "\n",
      "OBTENDO O VALOR DO FATO MULTIPLICATIVO m (LINHA 1) : \n",
      "\n"
     ]
    },
    {
     "data": {
      "text/latex": [
       "$\\displaystyle m_{13} = \\frac{a_{13}}{a_{33}} = \\frac{7.0}{-19.94642857142857}\n",
       "\n",
       " = -0.350940017905103\n",
       "\n",
       "$"
      ],
      "text/plain": [
       "<IPython.core.display.Math object>"
      ]
     },
     "metadata": {},
     "output_type": "display_data"
    },
    {
     "name": "stdout",
     "output_type": "stream",
     "text": [
      "\n",
      "Calculando os novos valores para linha 1:\n",
      " \n"
     ]
    },
    {
     "data": {
      "text/latex": [
       "$\\displaystyle a_{13} = a_{13} - m_{13} \\cdot a_{33} = 7.0 - (-0.350940017905103 \\cdot -19.94642857142857) = 0$"
      ],
      "text/plain": [
       "<IPython.core.display.Math object>"
      ]
     },
     "metadata": {},
     "output_type": "display_data"
    },
    {
     "data": {
      "text/latex": [
       "$\\displaystyle a_{12} = a_{12} - m_{13} \\cdot a_{32} = 3.0 - (-0.350940017905103 \\cdot 0.0) = 3.0$"
      ],
      "text/plain": [
       "<IPython.core.display.Math object>"
      ]
     },
     "metadata": {},
     "output_type": "display_data"
    },
    {
     "data": {
      "text/latex": [
       "$\\displaystyle a_{11} = a_{11} - m_{13} \\cdot a_{31} = 15.0 - (-0.350940017905103 \\cdot 0.0) = 15.0$"
      ],
      "text/plain": [
       "<IPython.core.display.Math object>"
      ]
     },
     "metadata": {},
     "output_type": "display_data"
    },
    {
     "data": {
      "text/latex": [
       "$\\displaystyle \n",
       " b_1 = b_1 - m_{13} \\cdot b_3 = [24.29185318] - (-0.350940017905103 \\cdot [17.92857143]) = [24.29185318]$"
      ],
      "text/plain": [
       "<IPython.core.display.Math object>"
      ]
     },
     "metadata": {},
     "output_type": "display_data"
    },
    {
     "name": "stdout",
     "output_type": "stream",
     "text": [
      "\n",
      "MATRIZ ATUAL: \n",
      "\n",
      "┏━━━━┳━━━━━━━┳━━━━━━━━━━┓  ​   ┏━━━━┓  ​   ┏━━━━━━━━━┓\n",
      "┃ 15 ┃   3   ┃   0      ┃  ​   ┃ x1 ┃  ​   ┃ 24.2919 ┃\n",
      "┣━━━━╋━━━━━━━╋━━━━━━━━━━┫  ​   ┣━━━━┫  ​   ┣━━━━━━━━━┫\n",
      "┃  0 ┃ -22.4 ┃   0      ┃  *  ┃ x2 ┃  =  ┃ 17.8545 ┃\n",
      "┣━━━━╋━━━━━━━╋━━━━━━━━━━┫     ┣━━━━┫     ┣━━━━━━━━━┫\n",
      "┃  0 ┃   0   ┃ -19.9464 ┃     ┃ x3 ┃     ┃ 17.9286 ┃\n",
      "┗━━━━┻━━━━━━━┻━━━━━━━━━━┛     ┗━━━━┛     ┗━━━━━━━━━┛\n",
      "\n",
      "OBTENDO 2° PIVÔ:\n"
     ]
    },
    {
     "data": {
      "text/latex": [
       "$\\displaystyle  a_{22} = -22.4\n",
       "\n",
       "$"
      ],
      "text/plain": [
       "<IPython.core.display.Math object>"
      ]
     },
     "metadata": {},
     "output_type": "display_data"
    },
    {
     "name": "stdout",
     "output_type": "stream",
     "text": [
      "\n",
      "\n",
      "OBTENDO O VALOR DO FATO MULTIPLICATIVO m (LINHA 1) : \n",
      "\n"
     ]
    },
    {
     "data": {
      "text/latex": [
       "$\\displaystyle m_{12} = \\frac{a_{12}}{a_{22}} = \\frac{3.0}{-22.4}\n",
       "\n",
       " = -0.13392857142857142\n",
       "\n",
       "$"
      ],
      "text/plain": [
       "<IPython.core.display.Math object>"
      ]
     },
     "metadata": {},
     "output_type": "display_data"
    },
    {
     "name": "stdout",
     "output_type": "stream",
     "text": [
      "\n",
      "Calculando os novos valores para linha 1:\n",
      " \n"
     ]
    },
    {
     "data": {
      "text/latex": [
       "$\\displaystyle a_{13} = a_{13} - m_{12} \\cdot a_{23} = 0.0 - (-0.13392857142857142 \\cdot 0.0) = 0$"
      ],
      "text/plain": [
       "<IPython.core.display.Math object>"
      ]
     },
     "metadata": {},
     "output_type": "display_data"
    },
    {
     "data": {
      "text/latex": [
       "$\\displaystyle a_{12} = a_{12} - m_{12} \\cdot a_{22} = 3.0 - (-0.13392857142857142 \\cdot -22.4) = 0$"
      ],
      "text/plain": [
       "<IPython.core.display.Math object>"
      ]
     },
     "metadata": {},
     "output_type": "display_data"
    },
    {
     "data": {
      "text/latex": [
       "$\\displaystyle a_{11} = a_{11} - m_{12} \\cdot a_{21} = 15.0 - (-0.13392857142857142 \\cdot 0.0) = 15.0$"
      ],
      "text/plain": [
       "<IPython.core.display.Math object>"
      ]
     },
     "metadata": {},
     "output_type": "display_data"
    },
    {
     "data": {
      "text/latex": [
       "$\\displaystyle \n",
       " b_1 = b_1 - m_{12} \\cdot b_2 = [26.68307968] - (-0.13392857142857142 \\cdot [17.8544912]) = [26.68307968]$"
      ],
      "text/plain": [
       "<IPython.core.display.Math object>"
      ]
     },
     "metadata": {},
     "output_type": "display_data"
    },
    {
     "name": "stdout",
     "output_type": "stream",
     "text": [
      "\n",
      "MATRIZ FINAL: \n",
      "\n",
      "┏━━━━┳━━━━━━━┳━━━━━━━━━━┓  ​   ┏━━━━┓  ​   ┏━━━━━━━━━┓\n",
      "┃ 15 ┃   0   ┃   0      ┃  ​   ┃ x1 ┃  ​   ┃ 26.6831 ┃\n",
      "┣━━━━╋━━━━━━━╋━━━━━━━━━━┫  ​   ┣━━━━┫  ​   ┣━━━━━━━━━┫\n",
      "┃  0 ┃ -22.4 ┃   0      ┃  *  ┃ x2 ┃  =  ┃ 17.8545 ┃\n",
      "┣━━━━╋━━━━━━━╋━━━━━━━━━━┫     ┣━━━━┫     ┣━━━━━━━━━┫\n",
      "┃  0 ┃   0   ┃ -19.9464 ┃     ┃ x3 ┃     ┃ 17.9286 ┃\n",
      "┗━━━━┻━━━━━━━┻━━━━━━━━━━┛     ┗━━━━┛     ┗━━━━━━━━━┛\n"
     ]
    }
   ],
   "source": [
    "#aplicando Gauss-jordan\n",
    "\n",
    "\n",
    "for i in range(len(matrizDosCoeficientes)-1,0,-1):\n",
    "    print(f'\\nMATRIZ ATUAL: \\n')\n",
    "    tabela = [[tabulate(matrizDosCoeficientes, tablefmt='heavy_grid'),tabulate(caracterEspace1,tablefmt='plain'), tabulate(matrizDasVariaveis, tablefmt='heavy_grid'), tabulate(caracterEspace2,tablefmt='plain'), tabulate(matrizResultante, tablefmt='heavy_grid')]]\n",
    "    matriz = tabulate(tabela, headers=[], tablefmt='plain')\n",
    "    print(matriz)\n",
    "    pivo = matrizDosCoeficientes[i][i]\n",
    "    print(f'\\nOBTENDO {i+1}° PIVÔ:')\n",
    "    print_latex( f\" a_{{{str(i+1)+str(i+1)}}} = {matrizDosCoeficientes[i][i]}\\n\\n\")\n",
    "    for j in range(len(matrizDosCoeficientes[0])-1,-1,-1):\n",
    "        if j != i and j<i:\n",
    "            m = matrizDosCoeficientes[j][i]/pivo\n",
    "            print(f'\\n\\nOBTENDO O VALOR DO FATO MULTIPLICATIVO m (LINHA {j+1}) : \\n')\n",
    "            print_latex(f\"m_{{{str(j+1)+str(i+1)}}} = \\\\frac{{a_{{{str(j+1)+str(i+1)}}}}}{{a_{{{str(i+1)+str(i+1)}}}}} = \\\\frac{{{matrizDosCoeficientes[j][i]}}}{{{pivo}}}\\n\\n = {m}\\n\\n\")\n",
    "\n",
    "            print(f\"\\nCalculando os novos valores para linha {j+1}:\\n \")\n",
    "            for k in range(len(matrizDosCoeficientes)-1,-1,-1):\n",
    "                print_latex(f'a_{{{str(j+1)+str(k+1)}}} = a_{{{str(j+1)+str(k+1)}}} - m_{{{str(j+1)+str(i+1)}}} \\cdot a_{{{str(i+1)+str(k+1)}}} = {matrizDosCoeficientes[j][k]} - ({m} \\cdot {matrizDosCoeficientes[i][k]}) = {0 if abs(matrizDosCoeficientes[j][k] - m* matrizDosCoeficientes[i][k]) <10**-9 else matrizDosCoeficientes[j][k] - m* matrizDosCoeficientes[i][k]}')\n",
    "                matrizDosCoeficientes[j][k] = 0 if abs(matrizDosCoeficientes[j][k] - m* matrizDosCoeficientes[i][k]) <10**-9 else matrizDosCoeficientes[j][k] - m* matrizDosCoeficientes[i][k]\n",
    "\n",
    "\n",
    "            matrizResultante[j] = matrizResultante[j] - m * matrizResultante[i]\n",
    "            print_latex(f'\\n b_{j+1} = b_{j+1} - m_{{{str(j+1)+str(i+1)}}} \\cdot b_{i+1} = {matrizResultante[j]} - ({m} \\cdot {matrizResultante[i]}) = {matrizResultante[j]}')\n",
    "print(f'\\nMATRIZ FINAL: \\n')\n",
    "tabela = [[tabulate(matrizDosCoeficientes, tablefmt='heavy_grid'),tabulate(caracterEspace1,tablefmt='plain'), tabulate(matrizDasVariaveis, tablefmt='heavy_grid'), tabulate(caracterEspace2,tablefmt='plain'), tabulate(matrizResultante, tablefmt='heavy_grid')]]\n",
    "matriz = tabulate(tabela, headers=[], tablefmt='plain')\n",
    "print(matriz)"
   ]
  }
 ],
 "metadata": {
  "kernelspec": {
   "display_name": "Python 3",
   "language": "python",
   "name": "python3"
  },
  "language_info": {
   "codemirror_mode": {
    "name": "ipython",
    "version": 3
   },
   "file_extension": ".py",
   "mimetype": "text/x-python",
   "name": "python",
   "nbconvert_exporter": "python",
   "pygments_lexer": "ipython3",
   "version": "3.10.12"
  }
 },
 "nbformat": 4,
 "nbformat_minor": 2
}
