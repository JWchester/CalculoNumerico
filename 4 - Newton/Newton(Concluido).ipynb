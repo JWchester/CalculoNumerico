{
 "cells": [
  {
   "attachments": {},
   "cell_type": "markdown",
   "metadata": {},
   "source": [
    "## Funções\n"
   ]
  },
  {
   "cell_type": "code",
   "execution_count": 1,
   "metadata": {},
   "outputs": [],
   "source": [
    "import sympy as sp\n",
    "import numpy as np\n",
    "import matplotlib.pyplot as plt\n",
    "from IPython.display import Math\n"
   ]
  },
  {
   "cell_type": "code",
   "execution_count": 2,
   "metadata": {},
   "outputs": [],
   "source": [
    "#função que retorna resultado da equação\n",
    "def f(x,tp):\n",
    "    if tp == 1:\n",
    "        return x**3 - x - 1\n",
    "    elif tp ==0:\n",
    "        function_latex = 'x**3 - x - 1 '\n",
    "        b = sp.sympify(function_latex)\n",
    "        c = sp.latex(b)\n",
    "        return c\n",
    "\n",
    "\n",
    "\n",
    "def print_latex(eq):\n",
    "    \n",
    "    return display(Math(eq))\n"
   ]
  },
  {
   "cell_type": "code",
   "execution_count": 3,
   "metadata": {},
   "outputs": [
    {
     "data": {
      "text/latex": [
       "$\\displaystyle f'(x) = 3 x^{2} - 1$"
      ],
      "text/plain": [
       "<IPython.core.display.Math object>"
      ]
     },
     "metadata": {},
     "output_type": "display_data"
    },
    {
     "data": {
      "text/latex": [
       "$\\displaystyle f''(x) = 6 x$"
      ],
      "text/plain": [
       "<IPython.core.display.Math object>"
      ]
     },
     "metadata": {},
     "output_type": "display_data"
    },
    {
     "name": "stdout",
     "output_type": "stream",
     "text": [
      "verifica se a convergência do método com:\n",
      "\n"
     ]
    },
    {
     "data": {
      "text/latex": [
       "$\\displaystyle |{f(x0) \\cdot f''(x0) \\over f'(x0)}| < 1$"
      ],
      "text/plain": [
       "<IPython.core.display.Math object>"
      ]
     },
     "metadata": {},
     "output_type": "display_data"
    },
    {
     "name": "stdout",
     "output_type": "stream",
     "text": [
      "então tem-se:\n"
     ]
    },
    {
     "data": {
      "text/latex": [
       "$\\displaystyle |{f(2) \\cdot f''(2) \\over f'(2)}| = |{[(2)^{3} - (2) - 1] \\cdot [6 (2)]\\over[3 (2)^{2} - 1]²}| = 0.496$"
      ],
      "text/plain": [
       "<IPython.core.display.Math object>"
      ]
     },
     "metadata": {},
     "output_type": "display_data"
    },
    {
     "name": "stdout",
     "output_type": "stream",
     "text": [
      "Ou seja:\n",
      "\n"
     ]
    },
    {
     "data": {
      "text/latex": [
       "$\\displaystyle 0.496 < 1$"
      ],
      "text/plain": [
       "<IPython.core.display.Math object>"
      ]
     },
     "metadata": {},
     "output_type": "display_data"
    },
    {
     "name": "stdout",
     "output_type": "stream",
     "text": [
      "Logo as condições iniciais são válidas, podendo prosseguir com o algoritmo\n"
     ]
    }
   ],
   "source": [
    "#criterio de convergência\n",
    "\n",
    "x0 = 2\n",
    "tolerance = 0.002\n",
    "decimal_place = 3\n",
    "\n",
    "while True:\n",
    "\n",
    "    x = sp.symbols('x')\n",
    "\n",
    "    diff1 = sp.diff(f(x,1),x)\n",
    "\n",
    "    print_latex(\"f'(x) = \" + sp.latex(diff1))\n",
    "\n",
    "    diff2 = sp.diff(diff1,x)\n",
    "\n",
    "    print_latex(\"f''(x) = \" + sp.latex(diff2))\n",
    "\n",
    "    #verificando critério de convergência\n",
    "    print('verifica se a convergência do método com:\\n')\n",
    "    print_latex(\"|{f(x0) \\cdot f''(x0) \\over f'(x0)}| < 1\")\n",
    "    result = round(abs((f(x0,1)*diff2.subs(x,x0))/(diff1.subs(x,x0))**2),decimal_place)\n",
    "    print('então tem-se:')\n",
    "    if result <1:  \n",
    "        print_latex(\"|{f(\"+str(x0)+\") \\cdot f''(\"+str(x0)+\") \\over f'(\"+str(x0)+\")}| = |{[\"+ f(x,0).replace('x','('+str(x0)+')')+'] \\cdot ['+ sp.latex(diff2).replace('x','('+str(x0)+')')+']' +'\\over'+'['+sp.latex(diff1).replace('x','('+str(x0)+')')+']²'+'}| = '+str(round(float(result),decimal_place)))\n",
    "        print('Ou seja:\\n')\n",
    "        print_latex(str(round(float(result),decimal_place))+ ' < 1')\n",
    "        print('Logo as condições iniciais são válidas, podendo prosseguir com o algoritmo')\n",
    "\n",
    "    elif result > 1:\n",
    "        print_latex(\"|{f(\"+str(x0)+\") \\cdot f''(\"+str(x0)+\") \\over f'(\"+str(x0)+\")}| = |{[\"+ f(x,0).replace('x','('+str(x0)+')')+'] \\cdot ['+ sp.latex(diff2).replace('x','('+str(x0)+')')+']' +'\\over'+'['+sp.latex(diff1).replace('x','('+str(x0)+')')+']²'+'}| = '+str(round(float(result),decimal_place)))\n",
    "        print('Ou seja: \\n ')\n",
    "        print_latex(str(round(float(result),decimal_place)) +' > 1')\n",
    "        print('Logo as condições iniciais NÃO são válidas. Deve-se escolher outras condições inicias')\n",
    "\n",
    "    \n",
    "    break\n",
    "\n",
    "    "
   ]
  },
  {
   "cell_type": "code",
   "execution_count": 4,
   "metadata": {},
   "outputs": [
    {
     "name": "stdout",
     "output_type": "stream",
     "text": [
      "1ª iteração: \n",
      "\n",
      "Calculando o valor da raiz a partir da equação:\n",
      "\n"
     ]
    },
    {
     "data": {
      "text/latex": [
       "$\\displaystyle x = x_0 - {f(x_0) \\over f'(x_0)}$"
      ],
      "text/plain": [
       "<IPython.core.display.Math object>"
      ]
     },
     "metadata": {},
     "output_type": "display_data"
    },
    {
     "name": "stdout",
     "output_type": "stream",
     "text": [
      "temos então:\n",
      "\n"
     ]
    },
    {
     "data": {
      "text/latex": [
       "$\\displaystyle x = 2 - {(2)^{3} - (2) - 1 \\over 3 (2)^{2} - 1} = 1.545$"
      ],
      "text/plain": [
       "<IPython.core.display.Math object>"
      ]
     },
     "metadata": {},
     "output_type": "display_data"
    },
    {
     "name": "stdout",
     "output_type": "stream",
     "text": [
      "verificando a condição de parada, temos:\n",
      "\n"
     ]
    },
    {
     "data": {
      "text/latex": [
       "$\\displaystyle f(x) = x^{3} - x - 1$"
      ],
      "text/plain": [
       "<IPython.core.display.Math object>"
      ]
     },
     "metadata": {},
     "output_type": "display_data"
    },
    {
     "data": {
      "text/latex": [
       "$\\displaystyle f(1.545) = 1.545^{3} - 1.545 - 1 = 1.143$"
      ],
      "text/plain": [
       "<IPython.core.display.Math object>"
      ]
     },
     "metadata": {},
     "output_type": "display_data"
    },
    {
     "data": {
      "text/latex": [
       "$\\displaystyle |f(x)| > 0.002$"
      ],
      "text/plain": [
       "<IPython.core.display.Math object>"
      ]
     },
     "metadata": {},
     "output_type": "display_data"
    },
    {
     "data": {
      "text/latex": [
       "$\\displaystyle 1.143 > 0.002$"
      ],
      "text/plain": [
       "<IPython.core.display.Math object>"
      ]
     },
     "metadata": {},
     "output_type": "display_data"
    },
    {
     "name": "stdout",
     "output_type": "stream",
     "text": [
      "Continuando as iterações até a condição ser satisfeita...\n",
      "\n",
      "2ª iteração: \n",
      "\n",
      "Calculando o valor da raiz a partir da equação:\n",
      "\n"
     ]
    },
    {
     "data": {
      "text/latex": [
       "$\\displaystyle x = x_0 - {f(x_0) \\over f'(x_0)}$"
      ],
      "text/plain": [
       "<IPython.core.display.Math object>"
      ]
     },
     "metadata": {},
     "output_type": "display_data"
    },
    {
     "name": "stdout",
     "output_type": "stream",
     "text": [
      "temos então:\n",
      "\n"
     ]
    },
    {
     "data": {
      "text/latex": [
       "$\\displaystyle x = 1.545 - {(1.545)^{3} - (1.545) - 1 \\over 3 (1.545)^{2} - 1} = 1.359$"
      ],
      "text/plain": [
       "<IPython.core.display.Math object>"
      ]
     },
     "metadata": {},
     "output_type": "display_data"
    },
    {
     "name": "stdout",
     "output_type": "stream",
     "text": [
      "verificando a condição de parada, temos:\n",
      "\n"
     ]
    },
    {
     "data": {
      "text/latex": [
       "$\\displaystyle f(x) = x^{3} - x - 1$"
      ],
      "text/plain": [
       "<IPython.core.display.Math object>"
      ]
     },
     "metadata": {},
     "output_type": "display_data"
    },
    {
     "data": {
      "text/latex": [
       "$\\displaystyle f(1.359) = 1.359^{3} - 1.359 - 1 = 0.151$"
      ],
      "text/plain": [
       "<IPython.core.display.Math object>"
      ]
     },
     "metadata": {},
     "output_type": "display_data"
    },
    {
     "data": {
      "text/latex": [
       "$\\displaystyle |f(x)| > 0.002$"
      ],
      "text/plain": [
       "<IPython.core.display.Math object>"
      ]
     },
     "metadata": {},
     "output_type": "display_data"
    },
    {
     "data": {
      "text/latex": [
       "$\\displaystyle 0.151 > 0.002$"
      ],
      "text/plain": [
       "<IPython.core.display.Math object>"
      ]
     },
     "metadata": {},
     "output_type": "display_data"
    },
    {
     "name": "stdout",
     "output_type": "stream",
     "text": [
      "Continuando as iterações até a condição ser satisfeita...\n",
      "\n",
      "3ª iteração: \n",
      "\n",
      "Calculando o valor da raiz a partir da equação:\n",
      "\n"
     ]
    },
    {
     "data": {
      "text/latex": [
       "$\\displaystyle x = x_0 - {f(x_0) \\over f'(x_0)}$"
      ],
      "text/plain": [
       "<IPython.core.display.Math object>"
      ]
     },
     "metadata": {},
     "output_type": "display_data"
    },
    {
     "name": "stdout",
     "output_type": "stream",
     "text": [
      "temos então:\n",
      "\n"
     ]
    },
    {
     "data": {
      "text/latex": [
       "$\\displaystyle x = 1.359 - {(1.359)^{3} - (1.359) - 1 \\over 3 (1.359)^{2} - 1} = 1.326$"
      ],
      "text/plain": [
       "<IPython.core.display.Math object>"
      ]
     },
     "metadata": {},
     "output_type": "display_data"
    },
    {
     "name": "stdout",
     "output_type": "stream",
     "text": [
      "verificando a condição de parada, temos:\n",
      "\n"
     ]
    },
    {
     "data": {
      "text/latex": [
       "$\\displaystyle f(x) = x^{3} - x - 1$"
      ],
      "text/plain": [
       "<IPython.core.display.Math object>"
      ]
     },
     "metadata": {},
     "output_type": "display_data"
    },
    {
     "data": {
      "text/latex": [
       "$\\displaystyle f(1.326) = 1.326^{3} - 1.326 - 1 = 0.005$"
      ],
      "text/plain": [
       "<IPython.core.display.Math object>"
      ]
     },
     "metadata": {},
     "output_type": "display_data"
    },
    {
     "data": {
      "text/latex": [
       "$\\displaystyle |f(x)| > 0.002$"
      ],
      "text/plain": [
       "<IPython.core.display.Math object>"
      ]
     },
     "metadata": {},
     "output_type": "display_data"
    },
    {
     "data": {
      "text/latex": [
       "$\\displaystyle 0.005 > 0.002$"
      ],
      "text/plain": [
       "<IPython.core.display.Math object>"
      ]
     },
     "metadata": {},
     "output_type": "display_data"
    },
    {
     "name": "stdout",
     "output_type": "stream",
     "text": [
      "Continuando as iterações até a condição ser satisfeita...\n",
      "\n",
      "4ª iteração: \n",
      "\n",
      "Calculando o valor da raiz a partir da equação:\n",
      "\n"
     ]
    },
    {
     "data": {
      "text/latex": [
       "$\\displaystyle x = x_0 - {f(x_0) \\over f'(x_0)}$"
      ],
      "text/plain": [
       "<IPython.core.display.Math object>"
      ]
     },
     "metadata": {},
     "output_type": "display_data"
    },
    {
     "name": "stdout",
     "output_type": "stream",
     "text": [
      "temos então:\n",
      "\n"
     ]
    },
    {
     "data": {
      "text/latex": [
       "$\\displaystyle x = 1.326 - {(1.326)^{3} - (1.326) - 1 \\over 3 (1.326)^{2} - 1} = 1.325$"
      ],
      "text/plain": [
       "<IPython.core.display.Math object>"
      ]
     },
     "metadata": {},
     "output_type": "display_data"
    },
    {
     "name": "stdout",
     "output_type": "stream",
     "text": [
      "verificando a condição de parada, temos:\n",
      "\n"
     ]
    },
    {
     "data": {
      "text/latex": [
       "$\\displaystyle f(x) = x^{3} - x - 1$"
      ],
      "text/plain": [
       "<IPython.core.display.Math object>"
      ]
     },
     "metadata": {},
     "output_type": "display_data"
    },
    {
     "data": {
      "text/latex": [
       "$\\displaystyle f(1.325) = 1.325^{3} - 1.325 - 1 = 0.001$"
      ],
      "text/plain": [
       "<IPython.core.display.Math object>"
      ]
     },
     "metadata": {},
     "output_type": "display_data"
    },
    {
     "data": {
      "text/latex": [
       "$\\displaystyle |f(x)| > 0.002$"
      ],
      "text/plain": [
       "<IPython.core.display.Math object>"
      ]
     },
     "metadata": {},
     "output_type": "display_data"
    },
    {
     "data": {
      "text/latex": [
       "$\\displaystyle 0.001 > 0.002$"
      ],
      "text/plain": [
       "<IPython.core.display.Math object>"
      ]
     },
     "metadata": {},
     "output_type": "display_data"
    },
    {
     "name": "stdout",
     "output_type": "stream",
     "text": [
      "fim do algoritmo.\n",
      "\n"
     ]
    }
   ],
   "source": [
    "results = []\n",
    "x0 = 2\n",
    "tolerance = 0.002\n",
    "interations = 1\n",
    "while True:\n",
    "    print('{}ª iteração: \\n'.format(interations))\n",
    "    print('Calculando o valor da raiz a partir da equação:\\n')\n",
    "    x = round(x0 - f(x0,1)/float(diff1.subs('x',str(x0))),decimal_place)\n",
    "    print_latex(\"x = x_0 - {f(x_0) \\over f'(x_0)}\")\n",
    "    print( 'temos então:\\n')\n",
    "    print_latex(\"x = \"+str(x0)+\" - {\"+f(x0,0).replace('x','('+str(x0)+')')+\" \\over \"+ sp.latex(diff1).replace('x','('+str(x0)+')')+\"} = \"+str(round(x,decimal_place)))\n",
    "    print('verificando a condição de parada, temos:\\n')\n",
    "\n",
    "    if abs(f(x,1)) > tolerance:\n",
    "        print_latex('f(x) = '+ f(x,0))\n",
    "        print_latex('f('+str(x)+') = '+ f(x,0).replace('x',str(x)) + ' = '+ str(round(f(x,1),decimal_place)))\n",
    "        print_latex('|f(x)| > '+str(tolerance))\n",
    "        print_latex(str(round(abs(f(x,1)),decimal_place))+ ' > '+str(tolerance))\n",
    "        print('Continuando as iterações até a condição ser satisfeita...\\n')\n",
    "        results.append([interations,round(x0,decimal_place),round(x,decimal_place), round(abs(f(x,1)),decimal_place)])\n",
    "        interations+=1\n",
    "        x0 = x\n",
    "        \n",
    "    elif abs(f(x,1)) < tolerance:\n",
    "        print_latex('f(x) = '+ f(x,0))\n",
    "        print_latex('f('+str(x)+') = '+ f(x,0).replace('x',str(x)) + ' = '+ str(round(f(x,1),decimal_place)))\n",
    "        print_latex('|f(x)| > '+str(tolerance))\n",
    "        print_latex(str(round(abs(f(x,1)),decimal_place))+ ' > '+str(tolerance))\n",
    "        print('fim do algoritmo.\\n')\n",
    "        results.append([interations,round(x0,decimal_place),round(x,decimal_place), round(abs(f(x,1)),decimal_place)])\n",
    "        interations+=1\n",
    "        x0 = x\n",
    "        break\n",
    "\n",
    "\n",
    "    \n",
    "    if interations >30:\n",
    "        break\n"
   ]
  },
  {
   "cell_type": "code",
   "execution_count": 5,
   "metadata": {},
   "outputs": [],
   "source": [
    "from tabulate import tabulate\n",
    "\n",
    "train_data_element = tabulate(results, headers=['K','x_k','x_k+1','|f(x_k)|'], tablefmt='heavy_grid')\n"
   ]
  },
  {
   "cell_type": "code",
   "execution_count": 6,
   "metadata": {},
   "outputs": [
    {
     "name": "stdout",
     "output_type": "stream",
     "text": [
      "┏━━━━━┳━━━━━━━┳━━━━━━━━━┳━━━━━━━━━━━━┓\n",
      "┃   K ┃   x_k ┃   x_k+1 ┃   |f(x_k)| ┃\n",
      "┣━━━━━╋━━━━━━━╋━━━━━━━━━╋━━━━━━━━━━━━┫\n",
      "┃   1 ┃ 2     ┃   1.545 ┃      1.143 ┃\n",
      "┣━━━━━╋━━━━━━━╋━━━━━━━━━╋━━━━━━━━━━━━┫\n",
      "┃   2 ┃ 1.545 ┃   1.359 ┃      0.151 ┃\n",
      "┣━━━━━╋━━━━━━━╋━━━━━━━━━╋━━━━━━━━━━━━┫\n",
      "┃   3 ┃ 1.359 ┃   1.326 ┃      0.005 ┃\n",
      "┣━━━━━╋━━━━━━━╋━━━━━━━━━╋━━━━━━━━━━━━┫\n",
      "┃   4 ┃ 1.326 ┃   1.325 ┃      0.001 ┃\n",
      "┗━━━━━┻━━━━━━━┻━━━━━━━━━┻━━━━━━━━━━━━┛\n"
     ]
    }
   ],
   "source": [
    "print(train_data_element)"
   ]
  }
 ],
 "metadata": {
  "kernelspec": {
   "display_name": "Python 3",
   "language": "python",
   "name": "python3"
  },
  "language_info": {
   "codemirror_mode": {
    "name": "ipython",
    "version": 3
   },
   "file_extension": ".py",
   "mimetype": "text/x-python",
   "name": "python",
   "nbconvert_exporter": "python",
   "pygments_lexer": "ipython3",
   "version": "3.10.12"
  },
  "orig_nbformat": 4
 },
 "nbformat": 4,
 "nbformat_minor": 2
}
