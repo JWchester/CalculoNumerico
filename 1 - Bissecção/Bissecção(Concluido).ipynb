{
 "cells": [
  {
   "attachments": {},
   "cell_type": "markdown",
   "metadata": {},
   "source": [
    "# Método da Bissecção"
   ]
  },
  {
   "attachments": {},
   "cell_type": "markdown",
   "metadata": {},
   "source": [
    "**A imagem a seguir mostra a expicação teórica do método da bissecção :**"
   ]
  },
  {
   "attachments": {},
   "cell_type": "markdown",
   "metadata": {},
   "source": [
    "![Teoria](Imagens/Metodo_Bissec%C3%A7%C3%A3o-Teoria.png)"
   ]
  },
  {
   "attachments": {},
   "cell_type": "markdown",
   "metadata": {},
   "source": [
    "a proxima imagem mostra os passos que o engenheiro deve seguir para aplicar corretamente o método da bissecção"
   ]
  },
  {
   "attachments": {},
   "cell_type": "markdown",
   "metadata": {},
   "source": [
    "### 1º Passo - Determinação do intervalo"
   ]
  },
  {
   "attachments": {},
   "cell_type": "markdown",
   "metadata": {},
   "source": [
    "![1ºPasso](Imagens/1%C2%BA%20Passo.png)"
   ]
  },
  {
   "attachments": {},
   "cell_type": "markdown",
   "metadata": {},
   "source": [
    "Nesse passo atribui-se os valores do intervalo que contem a raíz única a ser descoberta"
   ]
  },
  {
   "attachments": {},
   "cell_type": "markdown",
   "metadata": {},
   "source": [
    "### 2º Passo - Condições para aplicação do Método"
   ]
  },
  {
   "attachments": {},
   "cell_type": "markdown",
   "metadata": {},
   "source": [
    "![2ºPasso](Imagens/2%C2%BA%20Passo.png)"
   ]
  },
  {
   "attachments": {},
   "cell_type": "markdown",
   "metadata": {},
   "source": [
    "Antes de efetuar a aplicação do método, deve-se verificar  3 pontos:\n",
    "\n",
    "**1. verificar os valores das funções em a e em b**\n",
    "\n",
    "        o resultado na multiplicação negativo, contribui para garantir que a raíz está dentro do intervalo [a,b].\n",
    "\n",
    "    \n",
    "**2. A função deve ser continua dentro do intervalo**\n",
    "\n",
    "        A continuidade dentro do intervalo garantirá 100% a aplicação do método da bissecação.\n",
    "\n",
    "\n",
    "**3. A sequência de derivadas para função continua deve gerar sempre o mesmo sinal**\n",
    "\n",
    "        para a aplicação do método a função deve manter o comportamento crescente ou descrecente dentro do intervalo escolhido. Deriva-se normalmente nas extremidades do intervalo. ambas as funções derivadas em a e b devem possuir o mesmo sinal.\n",
    "\n",
    "Garantindo o 2º Passo pode-se prosseguir para aplicação do método."
   ]
  },
  {
   "attachments": {},
   "cell_type": "markdown",
   "metadata": {},
   "source": [
    "### 3º Passo - Média dos intervalos"
   ]
  },
  {
   "attachments": {},
   "cell_type": "markdown",
   "metadata": {},
   "source": [
    "![3ºPasso](Imagens/3%C2%BA%20Passo.png)"
   ]
  },
  {
   "attachments": {},
   "cell_type": "markdown",
   "metadata": {},
   "source": [
    "Encontra o ponto médio entre a e b para, nos proximos passos,se não satisfazer as condições de parada, obter um intervalo cada vez menor que contenha a raiz."
   ]
  },
  {
   "attachments": {},
   "cell_type": "markdown",
   "metadata": {},
   "source": [
    "### 4º Passo - Verificação das Condições de parada"
   ]
  },
  {
   "attachments": {},
   "cell_type": "markdown",
   "metadata": {},
   "source": [
    "![4ºPasso](Imagens/4%C2%BA%20Passo.png)"
   ]
  },
  {
   "attachments": {},
   "cell_type": "markdown",
   "metadata": {},
   "source": [
    "**São duas condições para determinação da parada:**\n",
    "\n",
    "**1. Encontrando o valor exato da raíz**\n",
    "\n",
    "        se o valor da raíz encontrada, f(x), tiver o resultado igual a 0, então o algoritmo é encerrado\n",
    "**2. Aproximação do valor da raíz**\n",
    "        \n",
    "        quando o valor da raíz não é exato o algoritmo tentará aproximar-se da raíz com infinitas iterações, para que não utilize todo o poder do processamento do computador de forma desnecessária, atribui-se um valor aproximado considerado tolerável. para esse valor denominamos tolerância.\n",
    "\n",
    "***OBS: CASO NENHUMA DAS CONDIÇÕES FOREM SATISFEITAS O ALGORITMO CONTINUA SENDO PROCESSADO, DIMINUINDO O INTERVALO ENTRE a E b, TENTANDO DETERMINAR UMA NOVA POSSÍVEL RAIZ.***"
   ]
  },
  {
   "attachments": {},
   "cell_type": "markdown",
   "metadata": {},
   "source": [
    "### 5º Passo - Verificar qual valor será atualizado"
   ]
  },
  {
   "attachments": {},
   "cell_type": "markdown",
   "metadata": {},
   "source": [
    "sabendo o novo possivel valor da raiz, deve-se verificar quais  dos valores de a ou b serão atualizado para repetir o procedimento do algoritmo. quando determinado qual variável será atualizada ela assumirá o novo valor da raiz encontrada. esse procedimento irá diminuir o intervalo até o ponto que atinja uma das condições de parada. então, como saber qual valor será atualizado?\n",
    "\n",
    "deve-se verificar as seguintes operações:\n",
    "\n",
    "$$\n",
    "\\begin{aligned}\n",
    "1.\\ f(a) \\cdot f(x_{k}) <0 \\\\   \n",
    "2.\\ f(b) \\cdot f(x_{k}) <0\n",
    "\\end{aligned}$$\n",
    "\n",
    "em relação a 'a': \n",
    "\n",
    "Se a multiplicação das funções forem menores que zero, significa que a raiz está entre a e x, logo atualiza b com o valor de x e repete o algoritmo considerando como novo intervalo $[a,b=x]$\n",
    "\n",
    "em relação a 'b':\n",
    "\n",
    "Se a multiplicação das funções forem menores que zero, significa que a raiz está entre b e x, logo atualiza a com o valor de x e repete o algoritmo considerando como novo intervalo $[a=x,b]$"
   ]
  },
  {
   "attachments": {},
   "cell_type": "markdown",
   "metadata": {},
   "source": [
    "# Desenvolvendo o Algoritmo"
   ]
  },
  {
   "attachments": {},
   "cell_type": "markdown",
   "metadata": {},
   "source": [
    "## Bibliotecas Utilizadas"
   ]
  },
  {
   "cell_type": "code",
   "execution_count": 102,
   "metadata": {},
   "outputs": [],
   "source": [
    "import sympy as sp #utilizado para realizar o tratamento de equações\n",
    "import numpy as np # utilizado para realização de operação com matrizes\n",
    "import matplotlib.pyplot as plt # Utilizada para plotagem gráfica\n",
    "from IPython.display import Math #Utilizado para imprimir variaveis na tela de forma renderizada\n"
   ]
  },
  {
   "cell_type": "markdown",
   "metadata": {},
   "source": [
    "## Funções"
   ]
  },
  {
   "cell_type": "code",
   "execution_count": 103,
   "metadata": {},
   "outputs": [],
   "source": [
    "#função que retorna resultado das funções ou retorna sua forma em string para ser renderizada em latex\n",
    "\n",
    "\n",
    "def f(x,tp):\n",
    "    inp = 'x**3 + cos(x)'   #<----- insira a função aqui\n",
    "    trt = inp.split(' ')\n",
    "    \n",
    "    if tp == 1:\n",
    "        for i in range(len(trt)):\n",
    "            if 'log' in trt[i]:\n",
    "                trt[i] = 'np.log(x)/np.log('+trt[i][6:-1]+')'\n",
    "\n",
    "            elif 'sin' in trt[i] or 'cos' in trt[i] or 'tan' in trt[i]:\n",
    "                trt[i] = 'np.'+ trt[i]\n",
    "                    \n",
    "        return eval(' '.join(trt))\n",
    "            \n",
    "                                            # caso de uma função não linear, devem ser escritas da seguinte maneira: I - np.sin(x) + 2       |       II - np.log(x,10) + np.log(x,2)\n",
    "\n",
    "    elif tp ==0:\n",
    "                                         #a string deve corresponder a mesma função do caso acima, porém escrita da seguinte maneira: I - sin(x) + 2     |   II - log10(x) + log2(x) \n",
    "        b = sp.sympify(inp)\n",
    "        return b\n",
    "\n",
    "# função utilizada se a função a cima apresentada for não linear\n",
    "\n",
    "# imprime variaveis renderizadas\n",
    "def print_latex(eq):\n",
    "    return display(Math(eq))\n"
   ]
  },
  {
   "attachments": {},
   "cell_type": "markdown",
   "metadata": {},
   "source": [
    "## Análise Gráfica\n"
   ]
  },
  {
   "cell_type": "code",
   "execution_count": 104,
   "metadata": {},
   "outputs": [
    {
     "name": "stdout",
     "output_type": "stream",
     "text": [
      "Considerando o Seguinte intervalo:\n",
      " [a,b] = [-1,-0.5]\n",
      "Uma tolerância de\n",
      " tol = 0.002\n",
      "Agora analisa-se o gráfico da função para saber se no intervalo [a,b] ele é contínuo\n"
     ]
    },
    {
     "data": {
      "image/png": "[encoded data removed]",
      "text/plain": [
       "<Figure size 640x480 with 1 Axes>"
      ]
     },
     "metadata": {},
     "output_type": "display_data"
    }
   ],
   "source": [
    "\n",
    "a = -1 #<----- insira o ponto inicial\n",
    "b = -0.5 #<---- insira o ponto final\n",
    "decimal_places = 3\n",
    "\n",
    "print('Considerando o Seguinte intervalo:\\n [a,b] = [{},{}]'.format(a, b))\n",
    "print('Uma tolerância de\\n tol = {}'.format(0.002))\n",
    "print('Agora analisa-se o gráfico da função para saber se no intervalo [a,b] ele é contínuo')\n",
    "\n",
    "# determina o domínio da função e as iterações para criar cada ponto no gráfico\n",
    "x = np.linspace(-10, 10, 1000)\n",
    "\n",
    "# analisar se o intervalo no qual será aplicado o algoritmo é contínuo\n",
    "\n",
    "fig, ax = plt.subplots()  # configura a região na qual será apresentado o plot da imagem\n",
    "ax.grid(True)  # apresenta grade no plot da imagem\n",
    "ax.plot(x, f(x, 1), color='red', label='$' + sp.latex(f(x, 0)) + '$')  # plota o gráfico e adiciona algumas configurações de legenda ao mesmo\n",
    "plt.axhline(0, color='black', lw=1)  # acrecenta eixo das abscissas\n",
    "plt.axvline(0, color='black', lw=1)  # acrescenta o eixo das ordenadas\n",
    "\n",
    "# modifique esses parametros para ter uma visão geral do gráfico\n",
    "ax.set_xlim(-5, 5)  # determina o tamanho do eixo x a ser analisado\n",
    "ax.set_ylim(-5, 5)  # determina o tamanho do eixo y a ser analisado\n",
    "\n",
    "# Define os intervalos desejados nos eixos x e y\n",
    "ax.set_xticks(np.arange(ax.get_xlim()[0], ax.get_xlim()[1] + 1, 1))\n",
    "ax.set_yticks(np.arange(ax.get_ylim()[0], ax.get_ylim()[1] + 1, 1))\n",
    "\n",
    "ax.set_xlabel('x')  # acrescenta legenda para o eixo x\n",
    "ax.set_ylabel('f(x)')  # acrescenta legenda para o eixo y\n",
    "ax.legend()  # ativa legenda\n",
    "\n",
    "plt.show()  # mostra o gráfico após as configurações fornecidas acima\n"
   ]
  },
  {
   "attachments": {},
   "cell_type": "markdown",
   "metadata": {},
   "source": [
    "**Se a função no intervalo [a,b] fornecidos são visualmente continuos, então continua o processo do algoritmo.caso contrário, deve-se determinar outra função que seja continua no intervalo, pois ocorrerá um erro durante a aplicação do método da bissecção**"
   ]
  },
  {
   "cell_type": "code",
   "execution_count": 105,
   "metadata": {},
   "outputs": [
    {
     "name": "stdout",
     "output_type": "stream",
     "text": [
      "Analisando se a derivada no intervalo ela é constante, usando a e b como referência:\n",
      "Derivada da função: \n"
     ]
    },
    {
     "data": {
      "text/latex": [
       "$\\displaystyle f'(x) = 3 x^{2} - \\sin{\\left(x \\right)}$"
      ],
      "text/plain": [
       "<IPython.core.display.Math object>"
      ]
     },
     "metadata": {},
     "output_type": "display_data"
    },
    {
     "name": "stdout",
     "output_type": "stream",
     "text": [
      "derivada em a: \n"
     ]
    },
    {
     "data": {
      "text/latex": [
       "$\\displaystyle f'(-1) = 3 (-1)^{2} - \\sin{\\left((-1) \\right)} = 3.841$"
      ],
      "text/plain": [
       "<IPython.core.display.Math object>"
      ]
     },
     "metadata": {},
     "output_type": "display_data"
    },
    {
     "name": "stdout",
     "output_type": "stream",
     "text": [
      "derivada em b: \n"
     ]
    },
    {
     "data": {
      "text/latex": [
       "$\\displaystyle f'(-0.5) = 3 (-0.5)^{2} - \\sin{\\left((-0.5) \\right)} = 1.229$"
      ],
      "text/plain": [
       "<IPython.core.display.Math object>"
      ]
     },
     "metadata": {},
     "output_type": "display_data"
    },
    {
     "name": "stdout",
     "output_type": "stream",
     "text": [
      "A derivada é sempre crescente, logo o intervalo é válido\n"
     ]
    },
    {
     "data": {
      "image/png": "[encoded data removed]",
      "text/plain": [
       "<Figure size 640x480 with 1 Axes>"
      ]
     },
     "metadata": {},
     "output_type": "display_data"
    }
   ],
   "source": [
    "print('Analisando se a derivada no intervalo ela é constante, usando a e b como referência:')\n",
    "#determina a variável da função para realização de tratamento da função com a bilbioteca sympy\n",
    "x = sp.symbols('x')\n",
    "#obtem a derivada da função\n",
    "derivada_f = sp.diff(f(x,0),x)\n",
    "\n",
    "print('Derivada da função: ')\n",
    "print_latex(\"f'(x) = \"+sp.latex(derivada_f))\n",
    "while True:\n",
    "    # verifica se as funções derivadas em a e b são negativas\n",
    "    if (derivada_f.subs(x,a)) < 0 and derivada_f.subs(x,b) <0:\n",
    "        print('derivada em a: ')\n",
    "        print_latex(\"f'(\"+str(a)+\")\" + \" = \" +str(sp.latex(derivada_f)).replace('x','('+str(a)+')')+ \" = \" + str(round(derivada_f.subs(x,a),decimal_places)))\n",
    "        print('derivada em b: ')\n",
    "        print_latex(\"f'(\"+str(b)+\")\" + \" = \" +str(sp.latex(derivada_f)).replace('x','('+str(b)+')')+ \" = \" + str(round(derivada_f.subs(x,b),decimal_places)))\n",
    "        print('A derivada é sempre descrescente, logo o intervalo é válido')\n",
    "\n",
    "    #verifica se as funções derivadas de a e b são negativas\n",
    "    elif (derivada_f.subs(x,a)) > 0 and derivada_f.subs(x,b) >0:\n",
    "        print('derivada em a: ')\n",
    "        print_latex(\"f'(\"+str(a)+\")\" + \" = \" +str(sp.latex(derivada_f)).replace('x','('+str(a)+')')+ \" = \" + str(round(derivada_f.subs(x,a),decimal_places)))\n",
    "        print('derivada em b: ')\n",
    "        print_latex(\"f'(\"+str(b)+\")\" + \" = \" +str(sp.latex(derivada_f)).replace('x','('+str(b)+')')+ \" = \" + str(round(derivada_f.subs(x,b),decimal_places)))\n",
    "        print('A derivada é sempre crescente, logo o intervalo é válido')\n",
    "\n",
    "    #verifica se as funções derivadas de a e b não satisfazem as duas condições  acima\n",
    "    else:\n",
    "        print('derivada em a: ')\n",
    "        print_latex(\"f'(\"+str(a)+\")\" + \" = \" +str(sp.latex(derivada_f)).replace('x','('+str(a)+')')+ \" = \" + str(derivada_f.subs(x,a)))\n",
    "        print('derivada em b: ')\n",
    "        print_latex(\"f'(\"+str(b)+\")\" + \" = \" +str(sp.latex(derivada_f)).replace('x','('+str(b)+')')+ \" = \" + str(derivada_f.subs(x,b)))\n",
    "        print('A forma da função varia ao longo do intervalo, logo o intervalo é inválido. Determine outro intervalo')\n",
    "        break\n",
    "            \n",
    "\n",
    "\n",
    "    x = np.linspace(-10,10,1000)\n",
    "    fig,ax = plt.subplots()\n",
    "    ax.grid(True)\n",
    "    ax.plot(x,f(x,1),color='red', label='$'+sp.latex(f(x,0))+'$')\n",
    "    plt.axhline(0, color='black', lw=1)\n",
    "    plt.axvline(0, color='black', lw=1)\n",
    "\n",
    "    #modifique esses parametros para verificar se o grafico é continuo nos intervalos iniciais fornecidos\n",
    "    ax.set_xlim(a,b) # determina o tamanho dos eixos x e y a serem analisados\n",
    "    ax.set_ylim(-5,5) # determina o tamanho dos eixos x e y a serem analisados\n",
    "        \n",
    "    ax.set_xlabel('x')\n",
    "    ax.set_ylabel('f(x)')\n",
    "    ax.legend()\n",
    "\n",
    "    plt.show()\n",
    "\n",
    "    break"
   ]
  },
  {
   "attachments": {},
   "cell_type": "markdown",
   "metadata": {},
   "source": [
    "**Para efetuar a aplicação do algoritmo a derivada da função proximo ao local onde está localizada a raíz seve ser sempre crescente ou sempre descrescente no intervalo. Matematicamente falando, a derivada da função proximo no intervalo deve ser constante.**\n",
    "\n",
    "**se a derivada é constante então continue com a aplicação do algoritmo. Caso contrário, escolha outra função que a derivada seja constante no intervalo, pois ocorrerá um erro na aplicação do método da bissecção.**"
   ]
  },
  {
   "attachments": {},
   "cell_type": "markdown",
   "metadata": {},
   "source": [
    "## Aplicando Algoritmo"
   ]
  },
  {
   "cell_type": "code",
   "execution_count": 106,
   "metadata": {},
   "outputs": [
    {
     "name": "stdout",
     "output_type": "stream",
     "text": [
      "fazendo:"
     ]
    },
    {
     "data": {
      "text/latex": [
       "$\\displaystyle f(a) \\cdot f(b)$"
      ],
      "text/plain": [
       "<IPython.core.display.Math object>"
      ]
     },
     "metadata": {},
     "output_type": "display_data"
    },
    {
     "name": "stdout",
     "output_type": "stream",
     "text": [
      "temos então:\n"
     ]
    },
    {
     "data": {
      "text/latex": [
       "$\\displaystyle f(-1)\\cdot f(-0.5)=[(-1)^{3} + \\cos{\\left((-1) \\right)}]\\cdot[(-0.5)^{3} + \\cos{\\left((-0.5) \\right)}] = -0.34596046834485233$"
      ],
      "text/plain": [
       "<IPython.core.display.Math object>"
      ]
     },
     "metadata": {},
     "output_type": "display_data"
    },
    {
     "name": "stdout",
     "output_type": "stream",
     "text": [
      "Ou seja, os intervalos aplicados inicialmente são válidos, pois: "
     ]
    },
    {
     "data": {
      "text/latex": [
       "$\\displaystyle f(a) \\cdot f(b) < 0$"
      ],
      "text/plain": [
       "<IPython.core.display.Math object>"
      ]
     },
     "metadata": {},
     "output_type": "display_data"
    }
   ],
   "source": [
    "# Aplicando o algoritmo da bissecção\n",
    "\n",
    "a0 = -1\n",
    "b0 = -0.5\n",
    "tolerance = 0.002\n",
    "decimal_places = 4\n",
    "\n",
    "\n",
    "print('fazendo:',end='')\n",
    "print_latex('f(a) \\cdot f(b)')\n",
    "print('temos então:')\n",
    "# verifica se as funções de a e b são negativas para garantir que a raiz está entre o intervalo [a,b]\n",
    "if f(a0,1)*f(b0,1) <0:\n",
    "\n",
    "    print_latex('f('+str(a0)+')' '\\cdot f('+str(b0)+')' '='+ '['+ sp.latex(f(x,0)).replace('x','('+str(a0)+')')+']' + '\\cdot' +'['+ sp.latex(f(x,0)).replace('x','('+str(b0)+')')+']'+ \" = \"+str((f(a0,1)*f(b0,1))))\n",
    "    print('Ou seja, os intervalos aplicados inicialmente são válidos, pois:',end=' ')\n",
    "    print_latex('f(a) \\cdot f(b) < 0')\n",
    "    \n",
    "#Caso contrário\n",
    "else:\n",
    "    print_latex('f('+str(a0)+')' '\\cdot f('+str(b0)+')' '='+ '['+sp.latex(f(x,0)).replace('x','('+str(a0)+')')+']'+ '\\cdot'+'['+sp.latex(f(x,0)).replace('x','('+str(b0)+')')+']'+' = '+ str((f(a0,1)*f(b0,1))))\n",
    "    print('Ou seja, os intervalos aplicados inicialmente NÃO são válidos, pois:',end=' ')\n",
    "    print_latex('f(a) \\cdot f(b) > 0')\n",
    "    print('Deve-se escolher outra [a,b] pois esse intervalo é inválido')\n"
   ]
  },
  {
   "cell_type": "code",
   "execution_count": 107,
   "metadata": {},
   "outputs": [
    {
     "name": "stdout",
     "output_type": "stream",
     "text": [
      "efetuando os cálculos: \n",
      "1º iteração: \n"
     ]
    },
    {
     "data": {
      "text/latex": [
       "$\\displaystyle x_{1} = {(a_0 + b_0)\\over 2} = {(-1 + -0.5)\\over 2} = -0.75$"
      ],
      "text/plain": [
       "<IPython.core.display.Math object>"
      ]
     },
     "metadata": {},
     "output_type": "display_data"
    },
    {
     "name": "stdout",
     "output_type": "stream",
     "text": [
      "verificando condição de parada: \n"
     ]
    },
    {
     "data": {
      "text/latex": [
       "$\\displaystyle f(-0.75) = -0.75^{3} + \\cos{\\left(-0.75 \\right)} = 0.3098$"
      ],
      "text/plain": [
       "<IPython.core.display.Math object>"
      ]
     },
     "metadata": {},
     "output_type": "display_data"
    },
    {
     "data": {
      "text/latex": [
       "$\\displaystyle |f(-0.75)|>0.002$"
      ],
      "text/plain": [
       "<IPython.core.display.Math object>"
      ]
     },
     "metadata": {},
     "output_type": "display_data"
    },
    {
     "data": {
      "text/latex": [
       "$\\displaystyle 0.3098>0.002$"
      ],
      "text/plain": [
       "<IPython.core.display.Math object>"
      ]
     },
     "metadata": {},
     "output_type": "display_data"
    },
    {
     "name": "stdout",
     "output_type": "stream",
     "text": [
      "dessa forma um novo intervalo deve ser determinado: \n",
      "como a relação: \n"
     ]
    },
    {
     "data": {
      "text/latex": [
       "$\\displaystyle f(a_1)\\cdot f(x_{1}) < 0$"
      ],
      "text/plain": [
       "<IPython.core.display.Math object>"
      ]
     },
     "metadata": {},
     "output_type": "display_data"
    },
    {
     "name": "stdout",
     "output_type": "stream",
     "text": [
      "então b será atualizado. Dessa forma tem-se:\n"
     ]
    },
    {
     "data": {
      "text/latex": [
       "$\\displaystyle a_1 = a_0 =-1$"
      ],
      "text/plain": [
       "<IPython.core.display.Math object>"
      ]
     },
     "metadata": {},
     "output_type": "display_data"
    },
    {
     "data": {
      "text/latex": [
       "$\\displaystyle b1 =x_{1} = -0.75$"
      ],
      "text/plain": [
       "<IPython.core.display.Math object>"
      ]
     },
     "metadata": {},
     "output_type": "display_data"
    },
    {
     "name": "stdout",
     "output_type": "stream",
     "text": [
      "efetuando os cálculos: \n",
      "2º iteração: \n"
     ]
    },
    {
     "data": {
      "text/latex": [
       "$\\displaystyle x_{2} = {(a_0 + b_0)\\over 2} = {(-1 + -0.75)\\over 2} = -0.875$"
      ],
      "text/plain": [
       "<IPython.core.display.Math object>"
      ]
     },
     "metadata": {},
     "output_type": "display_data"
    },
    {
     "name": "stdout",
     "output_type": "stream",
     "text": [
      "verificando condição de parada: \n"
     ]
    },
    {
     "data": {
      "text/latex": [
       "$\\displaystyle f(-0.875) = -0.875^{3} + \\cos{\\left(-0.875 \\right)} = -0.0289$"
      ],
      "text/plain": [
       "<IPython.core.display.Math object>"
      ]
     },
     "metadata": {},
     "output_type": "display_data"
    },
    {
     "data": {
      "text/latex": [
       "$\\displaystyle |f(-0.875)|>0.002$"
      ],
      "text/plain": [
       "<IPython.core.display.Math object>"
      ]
     },
     "metadata": {},
     "output_type": "display_data"
    },
    {
     "data": {
      "text/latex": [
       "$\\displaystyle 0.0289>0.002$"
      ],
      "text/plain": [
       "<IPython.core.display.Math object>"
      ]
     },
     "metadata": {},
     "output_type": "display_data"
    },
    {
     "name": "stdout",
     "output_type": "stream",
     "text": [
      "dessa forma um novo intervalo deve ser determinado: \n",
      "como a relação: \n"
     ]
    },
    {
     "data": {
      "text/latex": [
       "$\\displaystyle f(b_2)\\cdot f(x_{2}) < 0$"
      ],
      "text/plain": [
       "<IPython.core.display.Math object>"
      ]
     },
     "metadata": {},
     "output_type": "display_data"
    },
    {
     "name": "stdout",
     "output_type": "stream",
     "text": [
      "então a será atualizado. Dessa forma tem-se:\n"
     ]
    },
    {
     "data": {
      "text/latex": [
       "$\\displaystyle a_2 =x_{2} = -0.875$"
      ],
      "text/plain": [
       "<IPython.core.display.Math object>"
      ]
     },
     "metadata": {},
     "output_type": "display_data"
    },
    {
     "data": {
      "text/latex": [
       "$\\displaystyle b_2 = b_1 = -0.75$"
      ],
      "text/plain": [
       "<IPython.core.display.Math object>"
      ]
     },
     "metadata": {},
     "output_type": "display_data"
    },
    {
     "name": "stdout",
     "output_type": "stream",
     "text": [
      "efetuando os cálculos: \n",
      "3º iteração: \n"
     ]
    },
    {
     "data": {
      "text/latex": [
       "$\\displaystyle x_{3} = {(a_0 + b_0)\\over 2} = {(-0.875 + -0.75)\\over 2} = -0.8125$"
      ],
      "text/plain": [
       "<IPython.core.display.Math object>"
      ]
     },
     "metadata": {},
     "output_type": "display_data"
    },
    {
     "name": "stdout",
     "output_type": "stream",
     "text": [
      "verificando condição de parada: \n"
     ]
    },
    {
     "data": {
      "text/latex": [
       "$\\displaystyle f(-0.8125) = -0.8125^{3} + \\cos{\\left(-0.8125 \\right)} = 0.1513$"
      ],
      "text/plain": [
       "<IPython.core.display.Math object>"
      ]
     },
     "metadata": {},
     "output_type": "display_data"
    },
    {
     "data": {
      "text/latex": [
       "$\\displaystyle |f(-0.8125)|>0.002$"
      ],
      "text/plain": [
       "<IPython.core.display.Math object>"
      ]
     },
     "metadata": {},
     "output_type": "display_data"
    },
    {
     "data": {
      "text/latex": [
       "$\\displaystyle 0.1513>0.002$"
      ],
      "text/plain": [
       "<IPython.core.display.Math object>"
      ]
     },
     "metadata": {},
     "output_type": "display_data"
    },
    {
     "name": "stdout",
     "output_type": "stream",
     "text": [
      "dessa forma um novo intervalo deve ser determinado: \n",
      "como a relação: \n"
     ]
    },
    {
     "data": {
      "text/latex": [
       "$\\displaystyle f(a_3)\\cdot f(x_{3}) < 0$"
      ],
      "text/plain": [
       "<IPython.core.display.Math object>"
      ]
     },
     "metadata": {},
     "output_type": "display_data"
    },
    {
     "name": "stdout",
     "output_type": "stream",
     "text": [
      "então b será atualizado. Dessa forma tem-se:\n"
     ]
    },
    {
     "data": {
      "text/latex": [
       "$\\displaystyle a_3 = a_2 =-0.875$"
      ],
      "text/plain": [
       "<IPython.core.display.Math object>"
      ]
     },
     "metadata": {},
     "output_type": "display_data"
    },
    {
     "data": {
      "text/latex": [
       "$\\displaystyle b3 =x_{3} = -0.8125$"
      ],
      "text/plain": [
       "<IPython.core.display.Math object>"
      ]
     },
     "metadata": {},
     "output_type": "display_data"
    },
    {
     "name": "stdout",
     "output_type": "stream",
     "text": [
      "efetuando os cálculos: \n",
      "4º iteração: \n"
     ]
    },
    {
     "data": {
      "text/latex": [
       "$\\displaystyle x_{4} = {(a_0 + b_0)\\over 2} = {(-0.875 + -0.8125)\\over 2} = -0.8438$"
      ],
      "text/plain": [
       "<IPython.core.display.Math object>"
      ]
     },
     "metadata": {},
     "output_type": "display_data"
    },
    {
     "name": "stdout",
     "output_type": "stream",
     "text": [
      "verificando condição de parada: \n"
     ]
    },
    {
     "data": {
      "text/latex": [
       "$\\displaystyle f(-0.8438) = -0.8438^{3} + \\cos{\\left(-0.8438 \\right)} = 0.0638$"
      ],
      "text/plain": [
       "<IPython.core.display.Math object>"
      ]
     },
     "metadata": {},
     "output_type": "display_data"
    },
    {
     "data": {
      "text/latex": [
       "$\\displaystyle |f(-0.8438)|>0.002$"
      ],
      "text/plain": [
       "<IPython.core.display.Math object>"
      ]
     },
     "metadata": {},
     "output_type": "display_data"
    },
    {
     "data": {
      "text/latex": [
       "$\\displaystyle 0.0638>0.002$"
      ],
      "text/plain": [
       "<IPython.core.display.Math object>"
      ]
     },
     "metadata": {},
     "output_type": "display_data"
    },
    {
     "name": "stdout",
     "output_type": "stream",
     "text": [
      "dessa forma um novo intervalo deve ser determinado: \n",
      "como a relação: \n"
     ]
    },
    {
     "data": {
      "text/latex": [
       "$\\displaystyle f(a_4)\\cdot f(x_{4}) < 0$"
      ],
      "text/plain": [
       "<IPython.core.display.Math object>"
      ]
     },
     "metadata": {},
     "output_type": "display_data"
    },
    {
     "name": "stdout",
     "output_type": "stream",
     "text": [
      "então b será atualizado. Dessa forma tem-se:\n"
     ]
    },
    {
     "data": {
      "text/latex": [
       "$\\displaystyle a_4 = a_3 =-0.875$"
      ],
      "text/plain": [
       "<IPython.core.display.Math object>"
      ]
     },
     "metadata": {},
     "output_type": "display_data"
    },
    {
     "data": {
      "text/latex": [
       "$\\displaystyle b4 =x_{4} = -0.8438$"
      ],
      "text/plain": [
       "<IPython.core.display.Math object>"
      ]
     },
     "metadata": {},
     "output_type": "display_data"
    },
    {
     "name": "stdout",
     "output_type": "stream",
     "text": [
      "efetuando os cálculos: \n",
      "5º iteração: \n"
     ]
    },
    {
     "data": {
      "text/latex": [
       "$\\displaystyle x_{5} = {(a_0 + b_0)\\over 2} = {(-0.875 + -0.8438)\\over 2} = -0.8594$"
      ],
      "text/plain": [
       "<IPython.core.display.Math object>"
      ]
     },
     "metadata": {},
     "output_type": "display_data"
    },
    {
     "name": "stdout",
     "output_type": "stream",
     "text": [
      "verificando condição de parada: \n"
     ]
    },
    {
     "data": {
      "text/latex": [
       "$\\displaystyle f(-0.8594) = -0.8594^{3} + \\cos{\\left(-0.8594 \\right)} = 0.0182$"
      ],
      "text/plain": [
       "<IPython.core.display.Math object>"
      ]
     },
     "metadata": {},
     "output_type": "display_data"
    },
    {
     "data": {
      "text/latex": [
       "$\\displaystyle |f(-0.8594)|>0.002$"
      ],
      "text/plain": [
       "<IPython.core.display.Math object>"
      ]
     },
     "metadata": {},
     "output_type": "display_data"
    },
    {
     "data": {
      "text/latex": [
       "$\\displaystyle 0.0182>0.002$"
      ],
      "text/plain": [
       "<IPython.core.display.Math object>"
      ]
     },
     "metadata": {},
     "output_type": "display_data"
    },
    {
     "name": "stdout",
     "output_type": "stream",
     "text": [
      "dessa forma um novo intervalo deve ser determinado: \n",
      "como a relação: \n"
     ]
    },
    {
     "data": {
      "text/latex": [
       "$\\displaystyle f(a_5)\\cdot f(x_{5}) < 0$"
      ],
      "text/plain": [
       "<IPython.core.display.Math object>"
      ]
     },
     "metadata": {},
     "output_type": "display_data"
    },
    {
     "name": "stdout",
     "output_type": "stream",
     "text": [
      "então b será atualizado. Dessa forma tem-se:\n"
     ]
    },
    {
     "data": {
      "text/latex": [
       "$\\displaystyle a_5 = a_4 =-0.875$"
      ],
      "text/plain": [
       "<IPython.core.display.Math object>"
      ]
     },
     "metadata": {},
     "output_type": "display_data"
    },
    {
     "data": {
      "text/latex": [
       "$\\displaystyle b5 =x_{5} = -0.8594$"
      ],
      "text/plain": [
       "<IPython.core.display.Math object>"
      ]
     },
     "metadata": {},
     "output_type": "display_data"
    },
    {
     "name": "stdout",
     "output_type": "stream",
     "text": [
      "efetuando os cálculos: \n",
      "6º iteração: \n"
     ]
    },
    {
     "data": {
      "text/latex": [
       "$\\displaystyle x_{6} = {(a_0 + b_0)\\over 2} = {(-0.875 + -0.8594)\\over 2} = -0.8672$"
      ],
      "text/plain": [
       "<IPython.core.display.Math object>"
      ]
     },
     "metadata": {},
     "output_type": "display_data"
    },
    {
     "name": "stdout",
     "output_type": "stream",
     "text": [
      "verificando condição de parada: \n"
     ]
    },
    {
     "data": {
      "text/latex": [
       "$\\displaystyle f(-0.8672) = -0.8672^{3} + \\cos{\\left(-0.8672 \\right)} = -0.0052$"
      ],
      "text/plain": [
       "<IPython.core.display.Math object>"
      ]
     },
     "metadata": {},
     "output_type": "display_data"
    },
    {
     "data": {
      "text/latex": [
       "$\\displaystyle |f(-0.8672)|>0.002$"
      ],
      "text/plain": [
       "<IPython.core.display.Math object>"
      ]
     },
     "metadata": {},
     "output_type": "display_data"
    },
    {
     "data": {
      "text/latex": [
       "$\\displaystyle 0.0052>0.002$"
      ],
      "text/plain": [
       "<IPython.core.display.Math object>"
      ]
     },
     "metadata": {},
     "output_type": "display_data"
    },
    {
     "name": "stdout",
     "output_type": "stream",
     "text": [
      "dessa forma um novo intervalo deve ser determinado: \n",
      "como a relação: \n"
     ]
    },
    {
     "data": {
      "text/latex": [
       "$\\displaystyle f(b_6)\\cdot f(x_{6}) < 0$"
      ],
      "text/plain": [
       "<IPython.core.display.Math object>"
      ]
     },
     "metadata": {},
     "output_type": "display_data"
    },
    {
     "name": "stdout",
     "output_type": "stream",
     "text": [
      "então a será atualizado. Dessa forma tem-se:\n"
     ]
    },
    {
     "data": {
      "text/latex": [
       "$\\displaystyle a_6 =x_{6} = -0.8672$"
      ],
      "text/plain": [
       "<IPython.core.display.Math object>"
      ]
     },
     "metadata": {},
     "output_type": "display_data"
    },
    {
     "data": {
      "text/latex": [
       "$\\displaystyle b_6 = b_5 = -0.8594$"
      ],
      "text/plain": [
       "<IPython.core.display.Math object>"
      ]
     },
     "metadata": {},
     "output_type": "display_data"
    },
    {
     "name": "stdout",
     "output_type": "stream",
     "text": [
      "efetuando os cálculos: \n",
      "7º iteração: \n"
     ]
    },
    {
     "data": {
      "text/latex": [
       "$\\displaystyle x_{7} = {(a_0 + b_0)\\over 2} = {(-0.8672 + -0.8594)\\over 2} = -0.8633$"
      ],
      "text/plain": [
       "<IPython.core.display.Math object>"
      ]
     },
     "metadata": {},
     "output_type": "display_data"
    },
    {
     "name": "stdout",
     "output_type": "stream",
     "text": [
      "verificando condição de parada: \n"
     ]
    },
    {
     "data": {
      "text/latex": [
       "$\\displaystyle f(-0.8633) = -0.8633^{3} + \\cos{\\left(-0.8633 \\right)} = 0.0065$"
      ],
      "text/plain": [
       "<IPython.core.display.Math object>"
      ]
     },
     "metadata": {},
     "output_type": "display_data"
    },
    {
     "data": {
      "text/latex": [
       "$\\displaystyle |f(-0.8633)|>0.002$"
      ],
      "text/plain": [
       "<IPython.core.display.Math object>"
      ]
     },
     "metadata": {},
     "output_type": "display_data"
    },
    {
     "data": {
      "text/latex": [
       "$\\displaystyle 0.0065>0.002$"
      ],
      "text/plain": [
       "<IPython.core.display.Math object>"
      ]
     },
     "metadata": {},
     "output_type": "display_data"
    },
    {
     "name": "stdout",
     "output_type": "stream",
     "text": [
      "dessa forma um novo intervalo deve ser determinado: \n",
      "como a relação: \n"
     ]
    },
    {
     "data": {
      "text/latex": [
       "$\\displaystyle f(a_7)\\cdot f(x_{7}) < 0$"
      ],
      "text/plain": [
       "<IPython.core.display.Math object>"
      ]
     },
     "metadata": {},
     "output_type": "display_data"
    },
    {
     "name": "stdout",
     "output_type": "stream",
     "text": [
      "então b será atualizado. Dessa forma tem-se:\n"
     ]
    },
    {
     "data": {
      "text/latex": [
       "$\\displaystyle a_7 = a_6 =-0.8672$"
      ],
      "text/plain": [
       "<IPython.core.display.Math object>"
      ]
     },
     "metadata": {},
     "output_type": "display_data"
    },
    {
     "data": {
      "text/latex": [
       "$\\displaystyle b7 =x_{7} = -0.8633$"
      ],
      "text/plain": [
       "<IPython.core.display.Math object>"
      ]
     },
     "metadata": {},
     "output_type": "display_data"
    },
    {
     "name": "stdout",
     "output_type": "stream",
     "text": [
      "efetuando os cálculos: \n",
      "8º iteração: \n"
     ]
    },
    {
     "data": {
      "text/latex": [
       "$\\displaystyle x_{8} = {(a_0 + b_0)\\over 2} = {(-0.8672 + -0.8633)\\over 2} = -0.8652$"
      ],
      "text/plain": [
       "<IPython.core.display.Math object>"
      ]
     },
     "metadata": {},
     "output_type": "display_data"
    },
    {
     "name": "stdout",
     "output_type": "stream",
     "text": [
      "verificando condição de parada: \n"
     ]
    },
    {
     "data": {
      "text/latex": [
       "$\\displaystyle f(-0.8652) = -0.8652^{3} + \\cos{\\left(-0.8652 \\right)} = 0.0008$"
      ],
      "text/plain": [
       "<IPython.core.display.Math object>"
      ]
     },
     "metadata": {},
     "output_type": "display_data"
    },
    {
     "data": {
      "text/latex": [
       "$\\displaystyle |f(x_{8})|\\leq0.002$"
      ],
      "text/plain": [
       "<IPython.core.display.Math object>"
      ]
     },
     "metadata": {},
     "output_type": "display_data"
    },
    {
     "data": {
      "text/latex": [
       "$\\displaystyle 0.0008\\leq 0.002$"
      ],
      "text/plain": [
       "<IPython.core.display.Math object>"
      ]
     },
     "metadata": {},
     "output_type": "display_data"
    },
    {
     "name": "stdout",
     "output_type": "stream",
     "text": [
      "Dessa forma, a condição  de parada foi satisfeita\n"
     ]
    }
   ],
   "source": [
    "interation = 1 # variável utilizada para verificar quatas iterações foram necessárias para o algoritmo\n",
    "results = [] # vetor utilizado para construir tabela robusta com as informações das variaveis em cada iteração\n",
    "\n",
    "\n",
    "while True:\n",
    "    print('efetuando os cálculos: ')\n",
    "    print(\"{}º iteração: \".format(interation))\n",
    "\n",
    "    #calcula o valor da raiz\n",
    "    x = round((a0 + b0)/2,decimal_places)\n",
    "\n",
    "    print_latex('x_{'+str(interation)+'} = {(a_0 + b_0)\\over 2} = {('+str(a0)+' + '+str(b0)+')\\over 2} = ' + str(x))\n",
    "\n",
    "    print('verificando condição de parada: ')\n",
    "\n",
    "    #verifica se a condição de parada é satisfeita\n",
    "    if abs(round(f(x,1),decimal_places)) <= tolerance or f(x,1) == 0:\n",
    "        print_latex('f('+str(x)+') = '+ sp.latex(f(x,0)).replace('x',str(x)) + ' = '+ sp.latex(round(f(x,1),decimal_places)))\n",
    "        print_latex('|f(x_{'+str(interation)+'})|' + '\\leq' + str(tolerance))\n",
    "        print_latex(sp.latex(abs(round((f(x,1)),decimal_places))) + '\\leq ' + str(tolerance))\n",
    "        print(\"Dessa forma, a condição  de parada foi satisfeita\")\n",
    "\n",
    "        #armazena as informações das variaveis para iteração atual\n",
    "        results.append([interation, round(a0,decimal_places), round(b0,decimal_places), round(f(a0,1),decimal_places), round(f(b0,1),decimal_places), round(x,decimal_places), abs(round(f(x,1),decimal_places))])\n",
    "        break\n",
    "\n",
    "    #Caso contrário\n",
    "    elif abs(round(f(x,1),decimal_places)) > tolerance:\n",
    "        print_latex('f('+str(x)+') = '+ sp.latex(f(x,0)).replace('x',str(x)) + ' = '+ sp.latex(round(f(x,1),decimal_places)))\n",
    "        print_latex('|f('+str(x)+')|' + '>' + str(tolerance))\n",
    "        print_latex(sp.latex(abs(round(f(x,1),decimal_places))) + '>' + str(tolerance))\n",
    "\n",
    "        #armazena as informações das variaveis para iteração atual\n",
    "        results.append([interation, round(a0,decimal_places), round(b0,decimal_places), round(f(a0,1),decimal_places), round(f(b0,1),decimal_places), round(x,decimal_places), abs(round(f(x,1),decimal_places))])\n",
    "\n",
    "        print('dessa forma um novo intervalo deve ser determinado: ') \n",
    "\n",
    "        #verifica se a variavel b será atualizada\n",
    "        if f(a0,1)*f(x,1) < 0:\n",
    "            print('como a relação: ')\n",
    "            print_latex(f'f(a_{interation})'+ '\\cdot f(x_{'+str(interation)+'}) < 0')\n",
    "            print('então b será atualizado. Dessa forma tem-se:')\n",
    "            a0 = a0\n",
    "            b0 = x\n",
    "            print_latex(f\"a_{interation} = a_{interation-1} =\"+str(a0))\n",
    "            print_latex(f'b{interation} =' +'x_{'+str(interation)+'} = '+str(x))\n",
    "\n",
    "        #verifica se a será atualizado\n",
    "        elif f(b0,1)*f(x,1) < 0:\n",
    "            print('como a relação: ')\n",
    "            print_latex(f'f(b_{interation})'+ '\\cdot f(x_{'+str(interation)+'}) < 0')\n",
    "            print('então a será atualizado. Dessa forma tem-se:')\n",
    "            b0 = b0\n",
    "            a0 = x\n",
    "            print_latex(f'a_{interation} =' +'x_{'+str(interation)+'} = '+str(x))\n",
    "            print_latex(f'b_{interation} = b_{interation-1} = '+str(b0))\n",
    "\n",
    "    \n",
    "    \n",
    "    \n",
    "    #soma 1 a interation a cada fim de iteração \n",
    "    interation+=1\n",
    "\n",
    "    #finaliza o while True em caso de iterações indeterminadas\n",
    "    if interation > 40:\n",
    "        break\n",
    "\n",
    "\n",
    "\n",
    "\n"
   ]
  },
  {
   "cell_type": "code",
   "execution_count": 108,
   "metadata": {},
   "outputs": [],
   "source": [
    "from tabulate import tabulate #biblioteca que criar uma tabela robusta com print\n",
    "\n",
    "train_data_element = tabulate(results, headers=['K', 'a_k', 'b_k', 'f(a_k)', 'f(b_k)', 'x_k+1','|f(x_k+1)|'], tablefmt='heavy_grid') #importa os dados obtidos com results para impressão em uma tabela\n"
   ]
  },
  {
   "cell_type": "code",
   "execution_count": 109,
   "metadata": {},
   "outputs": [
    {
     "name": "stdout",
     "output_type": "stream",
     "text": [
      "┏━━━━━┳━━━━━━━━━┳━━━━━━━━━┳━━━━━━━━━━┳━━━━━━━━━━┳━━━━━━━━━┳━━━━━━━━━━━━━━┓\n",
      "┃   K ┃     a_k ┃     b_k ┃   f(a_k) ┃   f(b_k) ┃   x_k+1 ┃   |f(x_k+1)| ┃\n",
      "┣━━━━━╋━━━━━━━━━╋━━━━━━━━━╋━━━━━━━━━━╋━━━━━━━━━━╋━━━━━━━━━╋━━━━━━━━━━━━━━┫\n",
      "┃   1 ┃ -1      ┃ -0.5    ┃  -0.4597 ┃   0.7526 ┃ -0.75   ┃       0.3098 ┃\n",
      "┣━━━━━╋━━━━━━━━━╋━━━━━━━━━╋━━━━━━━━━━╋━━━━━━━━━━╋━━━━━━━━━╋━━━━━━━━━━━━━━┫\n",
      "┃   2 ┃ -1      ┃ -0.75   ┃  -0.4597 ┃   0.3098 ┃ -0.875  ┃       0.0289 ┃\n",
      "┣━━━━━╋━━━━━━━━━╋━━━━━━━━━╋━━━━━━━━━━╋━━━━━━━━━━╋━━━━━━━━━╋━━━━━━━━━━━━━━┫\n",
      "┃   3 ┃ -0.875  ┃ -0.75   ┃  -0.0289 ┃   0.3098 ┃ -0.8125 ┃       0.1513 ┃\n",
      "┣━━━━━╋━━━━━━━━━╋━━━━━━━━━╋━━━━━━━━━━╋━━━━━━━━━━╋━━━━━━━━━╋━━━━━━━━━━━━━━┫\n",
      "┃   4 ┃ -0.875  ┃ -0.8125 ┃  -0.0289 ┃   0.1513 ┃ -0.8438 ┃       0.0638 ┃\n",
      "┣━━━━━╋━━━━━━━━━╋━━━━━━━━━╋━━━━━━━━━━╋━━━━━━━━━━╋━━━━━━━━━╋━━━━━━━━━━━━━━┫\n",
      "┃   5 ┃ -0.875  ┃ -0.8438 ┃  -0.0289 ┃   0.0638 ┃ -0.8594 ┃       0.0182 ┃\n",
      "┣━━━━━╋━━━━━━━━━╋━━━━━━━━━╋━━━━━━━━━━╋━━━━━━━━━━╋━━━━━━━━━╋━━━━━━━━━━━━━━┫\n",
      "┃   6 ┃ -0.875  ┃ -0.8594 ┃  -0.0289 ┃   0.0182 ┃ -0.8672 ┃       0.0052 ┃\n",
      "┣━━━━━╋━━━━━━━━━╋━━━━━━━━━╋━━━━━━━━━━╋━━━━━━━━━━╋━━━━━━━━━╋━━━━━━━━━━━━━━┫\n",
      "┃   7 ┃ -0.8672 ┃ -0.8594 ┃  -0.0052 ┃   0.0182 ┃ -0.8633 ┃       0.0065 ┃\n",
      "┣━━━━━╋━━━━━━━━━╋━━━━━━━━━╋━━━━━━━━━━╋━━━━━━━━━━╋━━━━━━━━━╋━━━━━━━━━━━━━━┫\n",
      "┃   8 ┃ -0.8672 ┃ -0.8633 ┃  -0.0052 ┃   0.0065 ┃ -0.8652 ┃       0.0008 ┃\n",
      "┗━━━━━┻━━━━━━━━━┻━━━━━━━━━┻━━━━━━━━━━┻━━━━━━━━━━┻━━━━━━━━━┻━━━━━━━━━━━━━━┛\n"
     ]
    }
   ],
   "source": [
    "print(train_data_element)"
   ]
  }
 ],
 "metadata": {
  "kernelspec": {
   "display_name": "Python 3",
   "language": "python",
   "name": "python3"
  },
  "language_info": {
   "codemirror_mode": {
    "name": "ipython",
    "version": 3
   },
   "file_extension": ".py",
   "mimetype": "text/x-python",
   "name": "python",
   "nbconvert_exporter": "python",
   "pygments_lexer": "ipython3",
   "version": "3.10.12"
  },
  "orig_nbformat": 4,
  "vscode": {
   "interpreter": {
    "hash": "916dbcbb3f70747c44a77c7bcd40155683ae19c65e1c03b4aa3499c5328201f1"
   }
  }
 },
 "nbformat": 4,
 "nbformat_minor": 2
}
