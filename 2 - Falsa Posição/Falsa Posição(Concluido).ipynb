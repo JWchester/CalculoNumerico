{
 "cells": [
  {
   "attachments": {},
   "cell_type": "markdown",
   "metadata": {},
   "source": [
    "# Método da Bissecção"
   ]
  },
  {
   "attachments": {},
   "cell_type": "markdown",
   "metadata": {},
   "source": [
    "**A imagem a seguir mostra a expicação teórica do método da bissecção :**"
   ]
  },
  {
   "attachments": {},
   "cell_type": "markdown",
   "metadata": {},
   "source": [
    "![Teoria](Imagens/Metodo_Bissec%C3%A7%C3%A3o-Teoria.png)"
   ]
  },
  {
   "attachments": {},
   "cell_type": "markdown",
   "metadata": {},
   "source": [
    "a proxima imagem mostra os passos que o engenheiro deve seguir para aplicar corretamente o método da bissecção"
   ]
  },
  {
   "attachments": {},
   "cell_type": "markdown",
   "metadata": {},
   "source": [
    "### 1º Passo - Determinação do intervalo"
   ]
  },
  {
   "attachments": {},
   "cell_type": "markdown",
   "metadata": {},
   "source": [
    "![1ºPasso](Imagens/1%C2%BA%20Passo.png)"
   ]
  },
  {
   "attachments": {},
   "cell_type": "markdown",
   "metadata": {},
   "source": [
    "Nesse passo atribui-se os valores do intervalo que contem a raíz única a ser descoberta"
   ]
  },
  {
   "attachments": {},
   "cell_type": "markdown",
   "metadata": {},
   "source": [
    "### 2º Passo - Condições para aplicação do Método"
   ]
  },
  {
   "attachments": {},
   "cell_type": "markdown",
   "metadata": {},
   "source": [
    "![2ºPasso](Imagens/2%C2%BA%20Passo.png)"
   ]
  },
  {
   "attachments": {},
   "cell_type": "markdown",
   "metadata": {},
   "source": [
    "Antes de efetuar a aplicação do método, deve-se verificar se 3 pontos:\n",
    "\n",
    "**1.verificar os valores das funções em a e em b**\n",
    "\n",
    "        o resultado na multiplicação negativo, contribui para garantir que a raíz está dentro dos intervalos a e b.\n",
    "\n",
    "    \n",
    "**2.A função deve ser continua dentro do intervalo**\n",
    "\n",
    "        A continuidade garantirá dentro do intervalo garantirá 100% a aplicação do método da bissecação.\n",
    "\n",
    "\n",
    "**3.A sequência de derivadas para função continua deve gerar sempre o mesmo sinal**\n",
    "\n",
    "        para a aplicação do método a função deve manter o comportamento crescente ou descrecente. isso é identificado após derivar e verificar se o sinal permanece constante."
   ]
  },
  {
   "attachments": {},
   "cell_type": "markdown",
   "metadata": {},
   "source": [
    "## Garantindo o 2º Passo pode-se prosseguir para aplicação do método"
   ]
  },
  {
   "attachments": {},
   "cell_type": "markdown",
   "metadata": {},
   "source": [
    "### 3º Passo - Média dos intervalos"
   ]
  },
  {
   "attachments": {},
   "cell_type": "markdown",
   "metadata": {},
   "source": [
    "![3ºPasso](Imagens/3%C2%BA%20Passo.png)"
   ]
  },
  {
   "attachments": {},
   "cell_type": "markdown",
   "metadata": {},
   "source": [
    "Encontra o ponto médio entre a e b para no proximo passo verificar um intervalo menor que contenha a raiz."
   ]
  },
  {
   "attachments": {},
   "cell_type": "markdown",
   "metadata": {},
   "source": [
    "### 4º Passo - Verificação das Condições de parada"
   ]
  },
  {
   "attachments": {},
   "cell_type": "markdown",
   "metadata": {},
   "source": [
    "![4ºPasso](Imagens/4%C2%BA%20Passo.png)"
   ]
  },
  {
   "attachments": {},
   "cell_type": "markdown",
   "metadata": {},
   "source": [
    "**São duas condições para determinação da parada:**\n",
    "\n",
    "**1. Encontrando o valor exato da raíz**\n",
    "\n",
    "        se o valor da raíz encontrada, f(x), ticer o resultado igual a 0, então o algoritmo é encerrado\n",
    "**2. Aproximação do valor da raíz**\n",
    "        \n",
    "        quando o valor da raíz não é exato o algoritmo tentará aproximar-se da raíz com infinitas iterações, para que não utilize todo o poder do processamento do computador de forma desnecessária, atribui-se um valor aproximado considerado tolerável. para esse valor denominamos tolerância.\n",
    "\n",
    "***OBS: CASO NENHUMA DAS CONDIÇÕES FOREM SATISFEITAS O ALGORITMO CONTINUA SENDO PROCESSADO, DIMINUINDO O INTERVALO ENTRE a E b DETERMINANDO UMA NOVA POSSÍVEL RAIZ ATÉ QUE UMA DAS DUAS CONDIÇÕES A CIMA SEJAM SATISFEITAS.***"
   ]
  },
  {
   "attachments": {},
   "cell_type": "markdown",
   "metadata": {},
   "source": [
    "### 5º Passo - Verificar qual valor será atualizado"
   ]
  },
  {
   "attachments": {},
   "cell_type": "markdown",
   "metadata": {},
   "source": [
    "sabendo o novo possivel valor da raiz, deve-se verificar qual o valor de a ou b que será atualizado para repetir o procedimento do algoritmo. quando determinado qual variável será atualizada ela assumirá ela assumirá o novo valor da raiz encontrada. esse procedimento irá diminuirá o intervalo até o ponto que atinja uma das condições de parada. então, como saber qual valor será atualizado?\n",
    "\n",
    "deve-se verificar as seguintes operações:\n",
    "\n",
    "$$\n",
    "\\begin{aligned}\n",
    "1.\\ f(a) \\cdot f(x_{k}) <0 \\\\\n",
    "2.\\ f(b) \\cdot f(x_{k}) <0\n",
    "\\end{aligned}$$\n",
    "\n",
    "em relação a 'a': \n",
    "\n",
    "Se a multiplicação das funções forem menores que zero, significa que a raiz está entre a e x, logo atualiza b com o valor de x e repete o algoritmo considerando como novo intervalo $[a,b=x]$\n",
    "\n",
    "em relação a 'b':\n",
    "\n",
    "Se a multiplicação das funções forem menores que zero, significa que a raiz está entre b e x, logo atualiza a com o valor de x e repete o algoritmo considerando como novo intervalo $[a=x,b]$"
   ]
  },
  {
   "attachments": {},
   "cell_type": "markdown",
   "metadata": {},
   "source": [
    "# Desenvolvendo o Algoritmo"
   ]
  },
  {
   "attachments": {},
   "cell_type": "markdown",
   "metadata": {},
   "source": [
    "## Bibliotecas Utilizadas"
   ]
  },
  {
   "cell_type": "code",
   "execution_count": 147,
   "metadata": {},
   "outputs": [],
   "source": [
    "import sympy as sp\n",
    "import numpy as np\n",
    "import matplotlib.pyplot as plt\n",
    "from IPython.display import Math\n",
    "import math as m\n"
   ]
  },
  {
   "attachments": {},
   "cell_type": "markdown",
   "metadata": {},
   "source": [
    "## Funções"
   ]
  },
  {
   "cell_type": "code",
   "execution_count": 148,
   "metadata": {},
   "outputs": [],
   "source": [
    "#função que retorna resultado das funções ou retorna sua forma em string para ser renderizada em latex\n",
    "\n",
    "\n",
    "def f(x,tp):\n",
    "    inp = 'x * log(x,10) - 1'\n",
    "    trt = inp.split(' ')\n",
    "\n",
    "    \n",
    "    if tp == 1:\n",
    "        for i in range(len(trt)):\n",
    "            if 'log' in trt[i]:\n",
    "                trt[i] = 'np.log(x)/np.log('+trt[i][6:-1]+')'\n",
    "\n",
    "            elif 'sin' in trt[i] or 'cos' in trt[i] or 'tan' in trt[i]:\n",
    "                trt[i] = 'np.'+ trt[i]\n",
    "                \n",
    "            \n",
    "        return eval(' '.join(trt))\n",
    "            \n",
    "                                            # caso de uma função não linear, devem ser escritas da seguinte maneira: I - np.sin(x) + 2       |       II - np.log(x,10) + np.log(x,2)\n",
    "\n",
    "    elif tp ==0:\n",
    "                                         #a string deve corresponder a mesma função do caso acima, porém escrita da seguinte maneira: I - sin(x) + 2     |   II - log10(x) + log2(x) \n",
    "        b = sp.sympify(inp)\n",
    "        return b\n",
    "\n",
    "# função utilizada se a função a cima apresentada for não linear\n",
    "def df(x,tp):\n",
    "    return sp.sin(x) #caso seja utilizado essa função altere a linha  'derivada_f = sp.diff(f(x,1),x)' para ' derivada_f = sp.diff((df(x),x)). Caso contrário desfaça essa operação\n",
    "\n",
    "        #sp.sin(x)\n",
    "\n",
    "# imprime variaveis renderizadas\n",
    "def print_latex(eq):\n",
    "    return display(Math(eq))\n"
   ]
  },
  {
   "attachments": {},
   "cell_type": "markdown",
   "metadata": {},
   "source": [
    "## ANÁLISE GRÁFICA"
   ]
  },
  {
   "cell_type": "code",
   "execution_count": 149,
   "metadata": {},
   "outputs": [
    {
     "name": "stdout",
     "output_type": "stream",
     "text": [
      "Considerando o Seguinte intervalo:\n",
      " [a,b] = [1,2]\n",
      "Uma tolerância de\n",
      " tol = 0.002\n",
      "Agora analisa-se o gráfico da função para saber se no intervalo [a,b] ele é contínuo\n"
     ]
    },
    {
     "name": "stderr",
     "output_type": "stream",
     "text": [
      "<string>:1: RuntimeWarning: invalid value encountered in log\n"
     ]
    },
    {
     "data": {
      "image/png": "[encoded data removed]",
      "text/plain": [
       "<Figure size 640x480 with 1 Axes>"
      ]
     },
     "metadata": {},
     "output_type": "display_data"
    }
   ],
   "source": [
    "a = 1\n",
    "b = 2\n",
    "decimal_places = 3\n",
    "print('Considerando o Seguinte intervalo:\\n [a,b] = [{},{}]'.format(a,b))\n",
    "print( 'Uma tolerância de\\n tol = {}'.format(0.002))\n",
    "print('Agora analisa-se o gráfico da função para saber se no intervalo [a,b] ele é contínuo')\n",
    "\n",
    "# determina o domínio da função e as iterações para criar cada ponto no gráfico\n",
    "x = np.linspace(-10,10,1000)\n",
    "\n",
    "#analisar se o o intervalo no qual será aplicado o algoritmo é continuo\n",
    "\n",
    "fig,ax = plt.subplots() #configura a região na qual será apresentado o plot da imagem\n",
    "ax.grid(True) #apresenta grade no plot da imagem\n",
    "ax.plot(x,f(x,1),color='red', label='$'+sp.latex(f(x,0))+'$') #plota o gráfico e adiciona algumas configurações de legenda ao mesmo\n",
    "plt.axhline(0, color='black', lw=1) #acrecenta eixo das abicissas\n",
    "plt.axvline(0, color='black', lw=1) #acrescenta o eixo das ordenadas\n",
    "\n",
    "\n",
    "\n",
    "#modifique esses parametros para ter uma visão geral do gráfico\n",
    "ax.set_xlim(-5,5) # determina o tamanho do eixo x a ser analisado\n",
    "ax.set_ylim(-5,5) # determina o tamanho do eixo y a ser analisado\n",
    "    \n",
    "ax.set_xlabel('x') #acrescenta legenda para o eixo x\n",
    "ax.set_ylabel('f(x)') #acrescenta legnda para o eixo y\n",
    "ax.legend() #ativa legenda\n",
    "\n",
    "plt.show() #mostra o gráfico após as configurações fornecidas acima\n",
    "\n",
    "\n",
    "\n",
    "\n",
    "\n",
    "\n"
   ]
  },
  {
   "attachments": {},
   "cell_type": "markdown",
   "metadata": {},
   "source": [
    "**Se a função no intervalo [a,b] fornecidos são visualmente continuos, então continua o processo do algoritmo.caso contrário, deve-se determinar outra função que seja continua no intervalo, pois ocorrerá um erro durante a aplicação do método da bissecção**"
   ]
  },
  {
   "cell_type": "code",
   "execution_count": 150,
   "metadata": {},
   "outputs": [
    {
     "name": "stdout",
     "output_type": "stream",
     "text": [
      "Analisando se a derivada no intervalo ela é constante, usando a e b como referência:\n",
      "Derivada da função: \n"
     ]
    },
    {
     "data": {
      "text/latex": [
       "$\\displaystyle f'(x) = \\frac{\\log{\\left(x \\right)}}{\\log{\\left(10 \\right)}} + \\frac{1}{\\log{\\left(10 \\right)}}$"
      ],
      "text/plain": [
       "<IPython.core.display.Math object>"
      ]
     },
     "metadata": {},
     "output_type": "display_data"
    },
    {
     "name": "stdout",
     "output_type": "stream",
     "text": [
      "derivada em a: \n"
     ]
    },
    {
     "data": {
      "text/latex": [
       "$\\displaystyle f'(2) = \\frac{\\log{\\left((2) \\right)}}{\\log{\\left(10 \\right)}} + \\frac{1}{\\log{\\left(10 \\right)}} = 0.735$"
      ],
      "text/plain": [
       "<IPython.core.display.Math object>"
      ]
     },
     "metadata": {},
     "output_type": "display_data"
    },
    {
     "name": "stdout",
     "output_type": "stream",
     "text": [
      "derivada em b: \n"
     ]
    },
    {
     "data": {
      "text/latex": [
       "$\\displaystyle f'(4) = \\frac{\\log{\\left((4) \\right)}}{\\log{\\left(10 \\right)}} + \\frac{1}{\\log{\\left(10 \\right)}} = 1.036$"
      ],
      "text/plain": [
       "<IPython.core.display.Math object>"
      ]
     },
     "metadata": {},
     "output_type": "display_data"
    },
    {
     "name": "stdout",
     "output_type": "stream",
     "text": [
      "A derivada é sempre crescente, logo o intervalo é válido\n"
     ]
    },
    {
     "name": "stderr",
     "output_type": "stream",
     "text": [
      "<string>:1: RuntimeWarning: invalid value encountered in log\n"
     ]
    },
    {
     "data": {
      "image/png": "[encoded data removed]",
      "text/plain": [
       "<Figure size 640x480 with 1 Axes>"
      ]
     },
     "metadata": {},
     "output_type": "display_data"
    }
   ],
   "source": [
    "print('Analisando se a derivada no intervalo ela é constante, usando a e b como referência:')\n",
    "#determina a variável da função para realização de tratamento da função com a bilbioteca sympy\n",
    "x = sp.symbols('x')\n",
    "a = 2\n",
    "b = 4\n",
    "#obtem a derivada da função\n",
    "derivada_f = sp.diff(f(x,0),x)\n",
    "\n",
    "print('Derivada da função: ')\n",
    "print_latex(\"f'(x) = \"+sp.latex(derivada_f))\n",
    "while True:\n",
    "    # verifica se as funções derivadas em a e b são negativas\n",
    "    if (derivada_f.subs(x,a)) < 0 and derivada_f.subs(x,b) <0:\n",
    "        print('derivada em a: ')\n",
    "        print_latex(\"f'(\"+str(a)+\")\" + \" = \" +str(sp.latex(derivada_f)).replace('x','('+str(a)+')')+ \" = \" + str(round(derivada_f.subs(x,a),decimal_places)))\n",
    "        print('derivada em b: ')\n",
    "        print_latex(\"f'(\"+str(b)+\")\" + \" = \" +str(sp.latex(derivada_f)).replace('x','('+str(b)+')')+ \" = \" + str(round(derivada_f.subs(x,b),decimal_places)))\n",
    "        print('A derivada é sempre descrescente, logo o intervalo é válido')\n",
    "\n",
    "    #verifica se as funções derivadas de a e b são negativas\n",
    "    elif (derivada_f.subs(x,a)) > 0 and derivada_f.subs(x,b) >0:\n",
    "        print('derivada em a: ')\n",
    "        print_latex(\"f'(\"+str(a)+\")\" + \" = \" +str(sp.latex(derivada_f)).replace('x','('+str(a)+')')+ \" = \" + str(round(derivada_f.subs(x,a),decimal_places)))\n",
    "        print('derivada em b: ')\n",
    "        print_latex(\"f'(\"+str(b)+\")\" + \" = \" +str(sp.latex(derivada_f)).replace('x','('+str(b)+')')+ \" = \" + str(round(derivada_f.subs(x,b),decimal_places)))\n",
    "        print('A derivada é sempre crescente, logo o intervalo é válido')\n",
    "\n",
    "    #verifica se as funções derivadas de a e b não satisfazem as duas condições  acima\n",
    "    else:\n",
    "        print('derivada em a: ')\n",
    "        print_latex(\"f'(\"+str(a)+\")\" + \" = \" +str(sp.latex(derivada_f)).replace('x','('+str(a)+')')+ \" = \" + str(derivada_f.subs(x,a)))\n",
    "        print('derivada em b: ')\n",
    "        print_latex(\"f'(\"+str(b)+\")\" + \" = \" +str(sp.latex(derivada_f)).replace('x','('+str(b)+')')+ \" = \" + str(derivada_f.subs(x,b)))\n",
    "        print('A forma da função varia ao longo do intervalo, logo o intervalo é inválido. Determine outro intervalo')\n",
    "        break\n",
    "            \n",
    "\n",
    "\n",
    "    x = np.linspace(-10,10,1000)\n",
    "    fig,ax = plt.subplots()\n",
    "    ax.grid(True)\n",
    "    ax.plot(x,f(x,1),color='red', label='$'+sp.latex(f(x,0))+'$')\n",
    "    plt.axhline(0, color='black', lw=1)\n",
    "    plt.axvline(0, color='black', lw=1)\n",
    "\n",
    "    #modifique esses parametros para verificar se o grafico é continuo nos intervalos iniciais fornecidos\n",
    "    ax.set_xlim(a,b) # determina o tamanho dos eixos x e y a serem analisados\n",
    "    ax.set_ylim(-5,5) # determina o tamanho dos eixos x e y a serem analisados\n",
    "        \n",
    "    ax.set_xlabel('x')\n",
    "    ax.set_ylabel('f(x)')\n",
    "    ax.legend()\n",
    "\n",
    "    plt.show()\n",
    "\n",
    "    break"
   ]
  },
  {
   "attachments": {},
   "cell_type": "markdown",
   "metadata": {},
   "source": [
    "**Para efetuar a aplicação do algoritmo a derivada da função proximo ao local onde está localizada a raíz seve ser sempre crescente ou sempre descrescente no intervalo. Matematicamente falando, a derivada da função proximo no intervalo deve ser constante.**\n",
    "\n",
    "**se a derivada é constante então continue com a aplicação do algoritmo. Caso contrário, escolha outra função que a derivada seja constante no intervalo, pois ocorrerá um erro na aplicação do método da bissecção.**"
   ]
  },
  {
   "cell_type": "markdown",
   "metadata": {},
   "source": [
    "## Aplicando Algoritmo"
   ]
  },
  {
   "cell_type": "code",
   "execution_count": 151,
   "metadata": {},
   "outputs": [
    {
     "name": "stdout",
     "output_type": "stream",
     "text": [
      "fazendo:"
     ]
    },
    {
     "data": {
      "text/latex": [
       "$\\displaystyle f(a) \\cdot f(b)$"
      ],
      "text/plain": [
       "<IPython.core.display.Math object>"
      ]
     },
     "metadata": {},
     "output_type": "display_data"
    },
    {
     "name": "stdout",
     "output_type": "stream",
     "text": [
      "temos então:\n"
     ]
    },
    {
     "data": {
      "text/latex": [
       "$\\displaystyle f(2)\\cdot f(3)=[\\frac{(2) \\log{\\left((2) \\right)}}{\\log{\\left(10 \\right)}} - 1]\\cdot[\\frac{(3) \\log{\\left((3) \\right)}}{\\log{\\left(10 \\right)}} - 1] = -0.17165690005023018$"
      ],
      "text/plain": [
       "<IPython.core.display.Math object>"
      ]
     },
     "metadata": {},
     "output_type": "display_data"
    },
    {
     "name": "stdout",
     "output_type": "stream",
     "text": [
      "Ou seja, os intervalos aplicados inicialmente são válidos, pois: "
     ]
    },
    {
     "data": {
      "text/latex": [
       "$\\displaystyle f(a) \\cdot f(b) < 0$"
      ],
      "text/plain": [
       "<IPython.core.display.Math object>"
      ]
     },
     "metadata": {},
     "output_type": "display_data"
    }
   ],
   "source": [
    "# Aplicando o algoritmo da bissecção\n",
    "\n",
    "a0 = 2\n",
    "b0 = 3\n",
    "tolerance = 0.002\n",
    "decimal_places = 4\n",
    "\n",
    "\n",
    "print('fazendo:',end='')\n",
    "print_latex('f(a) \\cdot f(b)')\n",
    "print('temos então:')\n",
    "\n",
    "\n",
    "if f(a0,1)*f(b0,1) <0:\n",
    "    print_latex('f('+str(a0)+')' '\\cdot f('+str(b0)+')' '='+ '['+ sp.latex(f(x,0)).replace('x','('+str(a0)+')')+']' + '\\cdot' +'['+ sp.latex(f(x,0)).replace('x','('+str(b0)+')')+']'+ \" = \"+str((f(a0,1)*f(b0,1))))\n",
    "    print('Ou seja, os intervalos aplicados inicialmente são válidos, pois:',end=' ')\n",
    "    print_latex('f(a) \\cdot f(b) < 0')\n",
    "    \n",
    "\n",
    "else:\n",
    "    print_latex('f('+str(a0)+')' '\\cdot f('+str(b0)+')' '='+ '['+ sp.latex(f(x,0)).replace('x','('+str(a0)+')')+']' + '\\cdot' +'['+ sp.latex(f(x,0)).replace('x','('+str(b0)+')')+']'+ \" = \"+str((f(a0,1)*f(b0,1))))\n",
    "    print('Ou seja, os intervalos aplicados inicialmente NÃO são válidos, pois:',end=' ')\n",
    "    print_latex('f(a) \\cdot f(b) > 0')\n",
    "    print('Deve-se escolher outra [a,b] pois esse intervalo é inválido')\n"
   ]
  },
  {
   "cell_type": "code",
   "execution_count": 152,
   "metadata": {},
   "outputs": [
    {
     "name": "stdout",
     "output_type": "stream",
     "text": [
      "efetuando os cálculos: \n",
      "1º iteração: \n",
      "2.4798\n",
      "verificando condição de parada: \n"
     ]
    },
    {
     "data": {
      "text/latex": [
       "$\\displaystyle f(2.4798) = \\frac{2.4798 \\log{\\left(2.4798 \\right)}}{\\log{\\left(10 \\right)}} - 1 = -0.0219$"
      ],
      "text/plain": [
       "<IPython.core.display.Math object>"
      ]
     },
     "metadata": {},
     "output_type": "display_data"
    },
    {
     "data": {
      "text/latex": [
       "$\\displaystyle |f(2.4798)|>0.002$"
      ],
      "text/plain": [
       "<IPython.core.display.Math object>"
      ]
     },
     "metadata": {},
     "output_type": "display_data"
    },
    {
     "data": {
      "text/latex": [
       "$\\displaystyle 0.0219>0.002$"
      ],
      "text/plain": [
       "<IPython.core.display.Math object>"
      ]
     },
     "metadata": {},
     "output_type": "display_data"
    },
    {
     "name": "stdout",
     "output_type": "stream",
     "text": [
      "dessa forma um novo intervalo deve ser determinado: \n",
      "como a relação: \n"
     ]
    },
    {
     "data": {
      "text/latex": [
       "$\\displaystyle f(b) \\cdot f(x) < 0$"
      ],
      "text/plain": [
       "<IPython.core.display.Math object>"
      ]
     },
     "metadata": {},
     "output_type": "display_data"
    },
    {
     "name": "stdout",
     "output_type": "stream",
     "text": [
      "então a será atualizado. Dessa forma tem-se:\n"
     ]
    },
    {
     "data": {
      "text/latex": [
       "$\\displaystyle a = x = 2.4798$"
      ],
      "text/plain": [
       "<IPython.core.display.Math object>"
      ]
     },
     "metadata": {},
     "output_type": "display_data"
    },
    {
     "data": {
      "text/latex": [
       "$\\displaystyle b = a = 4$"
      ],
      "text/plain": [
       "<IPython.core.display.Math object>"
      ]
     },
     "metadata": {},
     "output_type": "display_data"
    },
    {
     "name": "stdout",
     "output_type": "stream",
     "text": [
      "efetuando os cálculos: \n",
      "2º iteração: \n",
      "2.505\n",
      "verificando condição de parada: \n"
     ]
    },
    {
     "data": {
      "text/latex": [
       "$\\displaystyle f(2.505) = \\frac{2.505 \\log{\\left(2.505 \\right)}}{\\log{\\left(10 \\right)}} - 1 = -0.001$"
      ],
      "text/plain": [
       "<IPython.core.display.Math object>"
      ]
     },
     "metadata": {},
     "output_type": "display_data"
    },
    {
     "data": {
      "text/latex": [
       "$\\displaystyle |f(x)|\\leq0.002$"
      ],
      "text/plain": [
       "<IPython.core.display.Math object>"
      ]
     },
     "metadata": {},
     "output_type": "display_data"
    },
    {
     "data": {
      "text/latex": [
       "$\\displaystyle 0.001\\leq 0.002$"
      ],
      "text/plain": [
       "<IPython.core.display.Math object>"
      ]
     },
     "metadata": {},
     "output_type": "display_data"
    },
    {
     "name": "stdout",
     "output_type": "stream",
     "text": [
      "Dessa forma, a condição  de parada foi satisfeita\n"
     ]
    }
   ],
   "source": [
    "interation = 1\n",
    "results = []\n",
    "while True:\n",
    "    print('efetuando os cálculos: ')\n",
    "    print(\"{}º iteração: \".format(interation))\n",
    "    x = round((a0*f(b0,1) - b0*f(a0,1))/(f(b0,1) - f(a0,1)),decimal_places)\n",
    "    print('verificando condição de parada: ')\n",
    "\n",
    "    if abs(round(f(x,1),decimal_places)) <= tolerance or f(x,1) == 0:\n",
    "        print_latex('f('+str(x)+') = '+ sp.latex(f(x,0)).replace('x',str(x)) + ' = '+ sp.latex(round(f(x,1),decimal_places)))\n",
    "        print_latex('|f(x)|' + '\\leq' + str(tolerance))\n",
    "        print_latex(sp.latex(abs(round((f(x,1)),decimal_places))) + '\\leq ' + str(tolerance))\n",
    "        print(\"Dessa forma, a condição  de parada foi satisfeita\")\n",
    "        results.append([interation, round(a0,decimal_places), round(b0,decimal_places), round(f(a0,1),decimal_places), round(f(b0,1),decimal_places), round(x,decimal_places), abs(round(f(x,1),decimal_places))])\n",
    "        break\n",
    "    elif abs(round(f(x,1),decimal_places)) > tolerance:\n",
    "        print_latex('f('+str(x)+') = '+ sp.latex(f(x,0)).replace('x',str(x)) + ' = '+ sp.latex(round(f(x,1),decimal_places)))\n",
    "        print_latex('|f('+str(x)+')|' + '>' + str(tolerance))\n",
    "        print_latex(sp.latex(abs(round(f(x,1),decimal_places))) + '>' + str(tolerance))\n",
    "        #determinar novo intervalo\n",
    "        print('dessa forma um novo intervalo deve ser determinado: ')\n",
    "        if f(a0,1)*f(x,1) < 0:\n",
    "            print('como a relação: ')\n",
    "            print_latex('f(a) \\cdot f(x) < 0')\n",
    "            print('então b será atualizado. Dessa forma tem-se:')\n",
    "            a0 = a0\n",
    "            b0 = x\n",
    "            print_latex('a = a = '+str(a))\n",
    "            print_latex('b = x = '+str(x))\n",
    "\n",
    "        elif f(b0,1)*f(x,1) < 0:\n",
    "            print('como a relação: ')\n",
    "            print_latex('f(b) \\cdot f(x) < 0')\n",
    "            print('então a será atualizado. Dessa forma tem-se:')\n",
    "            b0 = b0\n",
    "            a0 = x\n",
    "            print_latex('a = x = '+str(x))\n",
    "            print_latex('b = a = '+str(b))\n",
    "\n",
    "    \n",
    "    \n",
    "    \n",
    "    results.append([interation, round(a0,decimal_places), round(b0,decimal_places), round(f(a0,1),decimal_places), round(f(b0,1),decimal_places), round(x,decimal_places), abs(round(f(x,1),decimal_places))])\n",
    "    interation+=1\n",
    "    if interation > 60:\n",
    "        break\n",
    "\n",
    "    #para esse método deve-se ter cuidado com o arredondamento, pois ao utilizar determinado tipo de arrendondamento as o intervalo nunca\n",
    "    #será mudado e consequentemente nunca irá convergir.\n",
    "\n",
    "\n",
    "\n",
    "\n"
   ]
  },
  {
   "cell_type": "code",
   "execution_count": 153,
   "metadata": {},
   "outputs": [],
   "source": [
    "from tabulate import tabulate\n",
    "\n",
    "train_data_element = tabulate(results, headers=['K', 'a_k', 'b_k', 'f(a_k)', 'f(b_k)', 'x_k+1','|f(x_k+1)|'], tablefmt='heavy_grid')\n"
   ]
  },
  {
   "cell_type": "code",
   "execution_count": 154,
   "metadata": {},
   "outputs": [
    {
     "name": "stdout",
     "output_type": "stream",
     "text": [
      "┏━━━━━┳━━━━━━━━┳━━━━━━━┳━━━━━━━━━━┳━━━━━━━━━━┳━━━━━━━━━┳━━━━━━━━━━━━━━┓\n",
      "┃   K ┃    a_k ┃   b_k ┃   f(a_k) ┃   f(b_k) ┃   x_k+1 ┃   |f(x_k+1)| ┃\n",
      "┣━━━━━╋━━━━━━━━╋━━━━━━━╋━━━━━━━━━━╋━━━━━━━━━━╋━━━━━━━━━╋━━━━━━━━━━━━━━┫\n",
      "┃   1 ┃ 2.4798 ┃     3 ┃  -0.0219 ┃   0.4314 ┃  2.4798 ┃       0.0219 ┃\n",
      "┣━━━━━╋━━━━━━━━╋━━━━━━━╋━━━━━━━━━━╋━━━━━━━━━━╋━━━━━━━━━╋━━━━━━━━━━━━━━┫\n",
      "┃   2 ┃ 2.4798 ┃     3 ┃  -0.0219 ┃   0.4314 ┃  2.505  ┃       0.001  ┃\n",
      "┗━━━━━┻━━━━━━━━┻━━━━━━━┻━━━━━━━━━━┻━━━━━━━━━━┻━━━━━━━━━┻━━━━━━━━━━━━━━┛\n"
     ]
    }
   ],
   "source": [
    "print(train_data_element)"
   ]
  }
 ],
 "metadata": {
  "kernelspec": {
   "display_name": "Python 3",
   "language": "python",
   "name": "python3"
  },
  "language_info": {
   "codemirror_mode": {
    "name": "ipython",
    "version": 3
   },
   "file_extension": ".py",
   "mimetype": "text/x-python",
   "name": "python",
   "nbconvert_exporter": "python",
   "pygments_lexer": "ipython3",
   "version": "3.10.12"
  },
  "orig_nbformat": 4,
  "vscode": {
   "interpreter": {
    "hash": "916dbcbb3f70747c44a77c7bcd40155683ae19c65e1c03b4aa3499c5328201f1"
   }
  }
 },
 "nbformat": 4,
 "nbformat_minor": 2
}
